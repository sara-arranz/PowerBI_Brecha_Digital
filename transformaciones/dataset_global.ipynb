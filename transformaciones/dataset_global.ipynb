{
 "cells": [
  {
   "cell_type": "code",
   "execution_count": 1,
   "id": "27272081",
   "metadata": {},
   "outputs": [],
   "source": [
    "import pandas as pd\n",
    "import numpy as np"
   ]
  },
  {
   "cell_type": "code",
   "execution_count": 177,
   "id": "6671d215",
   "metadata": {},
   "outputs": [],
   "source": [
    "df_educacion = pd.read_csv('../files/inferencias/educacion_TIC.csv', sep=';', encoding='latin1')"
   ]
  },
  {
   "cell_type": "code",
   "execution_count": 8,
   "id": "e894b711",
   "metadata": {},
   "outputs": [
    {
     "data": {
      "text/html": [
       "<div>\n",
       "<style scoped>\n",
       "    .dataframe tbody tr th:only-of-type {\n",
       "        vertical-align: middle;\n",
       "    }\n",
       "\n",
       "    .dataframe tbody tr th {\n",
       "        vertical-align: top;\n",
       "    }\n",
       "\n",
       "    .dataframe thead th {\n",
       "        text-align: right;\n",
       "    }\n",
       "</style>\n",
       "<table border=\"1\" class=\"dataframe\">\n",
       "  <thead>\n",
       "    <tr style=\"text-align: right;\">\n",
       "      <th></th>\n",
       "      <th>Sexo</th>\n",
       "      <th>Caracterï¿½sticas socioeconï¿½micas</th>\n",
       "      <th>Tipo de uso de TIC</th>\n",
       "      <th>Total</th>\n",
       "    </tr>\n",
       "  </thead>\n",
       "  <tbody>\n",
       "    <tr>\n",
       "      <th>0</th>\n",
       "      <td>Ambos sexos</td>\n",
       "      <td>Total Personas</td>\n",
       "      <td>Total Personas</td>\n",
       "      <td>36663412</td>\n",
       "    </tr>\n",
       "    <tr>\n",
       "      <th>1</th>\n",
       "      <td>Ambos sexos</td>\n",
       "      <td>Total Personas</td>\n",
       "      <td>Personas que han utilizado el telï¿½fono mï¿½vil</td>\n",
       "      <td>99,1</td>\n",
       "    </tr>\n",
       "    <tr>\n",
       "      <th>2</th>\n",
       "      <td>Ambos sexos</td>\n",
       "      <td>Total Personas</td>\n",
       "      <td>Personas que han utilizado Internet en los ï¿½...</td>\n",
       "      <td>95,8</td>\n",
       "    </tr>\n",
       "    <tr>\n",
       "      <th>3</th>\n",
       "      <td>Ambos sexos</td>\n",
       "      <td>Total Personas</td>\n",
       "      <td>Personas que han utilizado Internet al menos u...</td>\n",
       "      <td>95</td>\n",
       "    </tr>\n",
       "    <tr>\n",
       "      <th>4</th>\n",
       "      <td>Ambos sexos</td>\n",
       "      <td>Total Personas</td>\n",
       "      <td>Personas que han utilizado Internet diariament...</td>\n",
       "      <td>91,5</td>\n",
       "    </tr>\n",
       "  </tbody>\n",
       "</table>\n",
       "</div>"
      ],
      "text/plain": [
       "          Sexo Caracterï¿½sticas socioeconï¿½micas  \\\n",
       "0  Ambos sexos                      Total Personas   \n",
       "1  Ambos sexos                      Total Personas   \n",
       "2  Ambos sexos                      Total Personas   \n",
       "3  Ambos sexos                      Total Personas   \n",
       "4  Ambos sexos                      Total Personas   \n",
       "\n",
       "                                  Tipo de uso de TIC     Total  \n",
       "0                                     Total Personas  36663412  \n",
       "1   Personas que han utilizado el telï¿½fono mï¿½vil      99,1  \n",
       "2  Personas que han utilizado Internet en los ï¿½...      95,8  \n",
       "3  Personas que han utilizado Internet al menos u...        95  \n",
       "4  Personas que han utilizado Internet diariament...      91,5  "
      ]
     },
     "execution_count": 8,
     "metadata": {},
     "output_type": "execute_result"
    }
   ],
   "source": [
    "df_educacion.head()"
   ]
  },
  {
   "cell_type": "code",
   "execution_count": 106,
   "id": "1a308a0f",
   "metadata": {},
   "outputs": [
    {
     "data": {
      "text/plain": [
       "Index(['Sexo', 'Caracterï¿½sticas socioeconï¿½micas', 'Tipo de uso de TIC',\n",
       "       'Total'],\n",
       "      dtype='object')"
      ]
     },
     "execution_count": 106,
     "metadata": {},
     "output_type": "execute_result"
    }
   ],
   "source": [
    "df_educacion. columns"
   ]
  },
  {
   "cell_type": "code",
   "execution_count": 178,
   "id": "111a85e4",
   "metadata": {},
   "outputs": [],
   "source": [
    "df_educacion.rename(columns={\n",
    "    'Caracterï¿½sticas socioeconï¿½micas': 'caracts_socioecon',\n",
    "    'Tipo de uso de TIC': 'uso_TIC',\n",
    "    'Sexo':'sexo',\n",
    "    'Total':'total'\n",
    "}, inplace=True)"
   ]
  },
  {
   "cell_type": "code",
   "execution_count": 54,
   "id": "2d47a235",
   "metadata": {},
   "outputs": [
    {
     "data": {
      "text/plain": [
       "Index(['sexo', 'caracts_socioecon', 'uso_TIC', 'total'], dtype='object')"
      ]
     },
     "execution_count": 54,
     "metadata": {},
     "output_type": "execute_result"
    }
   ],
   "source": [
    "df_educacion.columns"
   ]
  },
  {
   "cell_type": "code",
   "execution_count": 11,
   "id": "1473cfd0",
   "metadata": {},
   "outputs": [
    {
     "data": {
      "text/plain": [
       "sexo\n",
       "Ambos sexos     198\n",
       "Sexo: Hombre    198\n",
       "Sexo: Mujer     198\n",
       "Name: count, dtype: int64"
      ]
     },
     "execution_count": 11,
     "metadata": {},
     "output_type": "execute_result"
    }
   ],
   "source": [
    "df_educacion['sexo'].value_counts()"
   ]
  },
  {
   "cell_type": "code",
   "execution_count": 179,
   "id": "45c4b55a",
   "metadata": {},
   "outputs": [],
   "source": [
    "map = {'Sexo: Mujer': 'mujer',\n",
    "        'Sexo: Hombre': 'hombre'}\n",
    "\n",
    "df_educacion['sexo'] = df_educacion['sexo'].map(map)"
   ]
  },
  {
   "cell_type": "code",
   "execution_count": 56,
   "id": "022c4c19",
   "metadata": {},
   "outputs": [
    {
     "data": {
      "text/plain": [
       "sexo\n",
       "hombre    198\n",
       "mujer     198\n",
       "Name: count, dtype: int64"
      ]
     },
     "execution_count": 56,
     "metadata": {},
     "output_type": "execute_result"
    }
   ],
   "source": [
    "df_educacion['sexo'].value_counts()"
   ]
  },
  {
   "cell_type": "code",
   "execution_count": 15,
   "id": "c77be236",
   "metadata": {},
   "outputs": [
    {
     "data": {
      "text/plain": [
       "uso_TIC\n",
       "Total Personas                                                                              99\n",
       "Personas que han utilizado el telï¿½fono mï¿½vil                                            99\n",
       "Personas que han utilizado Internet en los ï¿½ltimos 3 meses                                99\n",
       "Personas que han utilizado Internet al menos una vez por semana en los ï¿½ltimos 3 meses    99\n",
       "Personas que han utilizado Internet diariamente (al menos 5 dï¿½as a la semana)             99\n",
       "Personas que han comprado a travï¿½s de Internet en los ï¿½ltimos 3 meses                   99\n",
       "Name: count, dtype: int64"
      ]
     },
     "execution_count": 15,
     "metadata": {},
     "output_type": "execute_result"
    }
   ],
   "source": [
    "df_educacion['uso_TIC'].value_counts()"
   ]
  },
  {
   "cell_type": "code",
   "execution_count": 180,
   "id": "71db990e",
   "metadata": {},
   "outputs": [],
   "source": [
    "df_educacion['uso_TIC'] = df_educacion['uso_TIC'].str.lower()"
   ]
  },
  {
   "cell_type": "code",
   "execution_count": 58,
   "id": "d5d3c9fa",
   "metadata": {},
   "outputs": [
    {
     "data": {
      "text/plain": [
       "uso_TIC\n",
       "total personas                                                                              99\n",
       "personas que han utilizado el telï¿½fono mï¿½vil                                            99\n",
       "personas que han utilizado internet en los ï¿½ltimos 3 meses                                99\n",
       "personas que han utilizado internet al menos una vez por semana en los ï¿½ltimos 3 meses    99\n",
       "personas que han utilizado internet diariamente (al menos 5 dï¿½as a la semana)             99\n",
       "personas que han comprado a travï¿½s de internet en los ï¿½ltimos 3 meses                   99\n",
       "Name: count, dtype: int64"
      ]
     },
     "execution_count": 58,
     "metadata": {},
     "output_type": "execute_result"
    }
   ],
   "source": [
    "df_educacion['uso_TIC'].value_counts()"
   ]
  },
  {
   "cell_type": "code",
   "execution_count": 181,
   "id": "c0457ba6",
   "metadata": {},
   "outputs": [],
   "source": [
    "map = {'personas que han utilizado el telï¿½fono mï¿½vil': 'telef_mov', \n",
    "    'personas que han utilizado internet en los ï¿½ltimos 3 meses':'uso_internet_ultimos3meses',\n",
    "    'personas que han utilizado internet al menos una vez por semana en los ï¿½ltimos 3 meses':'uso_internet_semanal',\n",
    "    'personas que han utilizado internet diariamente (al menos 5 dï¿½as a la semana)':'uso_internet_diario',\n",
    "    'personas que han comprado a travï¿½s de internet en los ï¿½ltimos 3 meses':'compra_online_ultimos3meses'}\n",
    "\n",
    "df_educacion['uso_TIC']= df_educacion['uso_TIC'].map(map)"
   ]
  },
  {
   "cell_type": "code",
   "execution_count": 182,
   "id": "edc0d548",
   "metadata": {},
   "outputs": [
    {
     "data": {
      "text/plain": [
       "uso_TIC\n",
       "telef_mov                      99\n",
       "uso_internet_ultimos3meses     99\n",
       "uso_internet_semanal           99\n",
       "uso_internet_diario            99\n",
       "compra_online_ultimos3meses    99\n",
       "Name: count, dtype: int64"
      ]
     },
     "execution_count": 182,
     "metadata": {},
     "output_type": "execute_result"
    }
   ],
   "source": [
    "df_educacion['uso_TIC'].value_counts()"
   ]
  },
  {
   "cell_type": "code",
   "execution_count": 183,
   "id": "859851ae",
   "metadata": {},
   "outputs": [
    {
     "data": {
      "text/plain": [
       "caracts_socioecon\n",
       "Total Personas                                                                                         18\n",
       "Estudios terminados: Menos que primaria                                                                18\n",
       "Estudios terminados: Educaciï¿½n Primaria                                                              18\n",
       "Estudios terminados: Primera etapa de Educaciï¿½n Secundaria                                           18\n",
       "Estudios terminados: Segunda etapa de Educaciï¿½n Secundaria                                           18\n",
       "Estudios terminados: Formaciï¿½n Profesional de Grado Superior                                         18\n",
       "Estudios terminados: Diplomatura universitaria y equivalentes                                          18\n",
       "Estudios terminados: Licenciatura universitaria, mï¿½ster y equivalentes                               18\n",
       "Estudios terminados: Doctorado universitario                                                           18\n",
       "Estudios terminados: Otros                                                                             18\n",
       "Situaciï¿½n laboral: Activos ocupados                                                                  18\n",
       "Situaciï¿½n laboral: Activos parados                                                                   18\n",
       "Situaciï¿½n laboral: Inactivos: Estudiantes                                                            18\n",
       "Situaciï¿½n laboral: Inactivos: Labores del hogar                                                      18\n",
       "Situaciï¿½n laboral: Inactivos: Pensionistas                                                           18\n",
       "Situaciï¿½n laboral: Otra situaciï¿½n laboral                                                          18\n",
       "Situaciï¿½n Profesional (en trabajo principal): Trabajador por cuenta ajena con contrato indefinido    18\n",
       "Situaciï¿½n Profesional (en trabajo principal): Trabajador por cuenta ajena con contrato temporal      18\n",
       "Situaciï¿½n Profesional (en trabajo principal): Trabajador por cuenta propia  con empleados            18\n",
       "Situaciï¿½n Profesional (en trabajo principal): Trabajador por cuenta propia sin empleados             18\n",
       "Situaciï¿½n Profesional (en trabajo principal):  Ayuda familiar (sin sueldo estipulado)                18\n",
       "Jornada laboral (en trabajo principal) : A tiempo completo                                             18\n",
       "Jornada laboral (en trabajo principal) : A tiempo parcial                                              18\n",
       "Ocupaciï¿½n principal: Manual                                                                          18\n",
       "Ocupaciï¿½n principal: No Manual                                                                       18\n",
       "Ocupaciï¿½n principal: Trabajadores TIC                                                                18\n",
       "Ocupaciï¿½n principal: Otros trabajadores                                                              18\n",
       "Ingresos mensuales netos del hogar: Menos de 1.200 euros                                               18\n",
       "Ingresos mensuales netos del hogar: De 1.200 a menos de 1.900 euros                                    18\n",
       "Ingresos mensuales netos del hogar: De 1.900 a menos de 2.700 euros                                    18\n",
       "Ingresos mensuales netos del hogar: De 2.700 a menos de 3.900 euros                                    18\n",
       "Ingresos mensuales netos del hogar: 3.900 o mï¿½s euros                                                18\n",
       "Ingresos mensuales netos del hogar: NS/NR                                                              18\n",
       "Name: count, dtype: int64"
      ]
     },
     "execution_count": 183,
     "metadata": {},
     "output_type": "execute_result"
    }
   ],
   "source": [
    "df_educacion['caracts_socioecon'].value_counts()"
   ]
  },
  {
   "cell_type": "code",
   "execution_count": 184,
   "id": "a79d600d",
   "metadata": {},
   "outputs": [],
   "source": [
    "# Reconvertimos desde latin1 a utf-8\n",
    "df_educacion['caracts_socioecon'] = df_educacion['caracts_socioecon'].apply(lambda x: x.encode('latin1').decode('utf-8'))"
   ]
  },
  {
   "cell_type": "code",
   "execution_count": 185,
   "id": "4c80305b",
   "metadata": {},
   "outputs": [
    {
     "data": {
      "text/plain": [
       "caracts_socioecon\n",
       "Total Personas                                                                                       18\n",
       "Estudios terminados: Menos que primaria                                                              18\n",
       "Estudios terminados: Educaci�n Primaria                                                              18\n",
       "Estudios terminados: Primera etapa de Educaci�n Secundaria                                           18\n",
       "Estudios terminados: Segunda etapa de Educaci�n Secundaria                                           18\n",
       "Estudios terminados: Formaci�n Profesional de Grado Superior                                         18\n",
       "Estudios terminados: Diplomatura universitaria y equivalentes                                        18\n",
       "Estudios terminados: Licenciatura universitaria, m�ster y equivalentes                               18\n",
       "Estudios terminados: Doctorado universitario                                                         18\n",
       "Estudios terminados: Otros                                                                           18\n",
       "Situaci�n laboral: Activos ocupados                                                                  18\n",
       "Situaci�n laboral: Activos parados                                                                   18\n",
       "Situaci�n laboral: Inactivos: Estudiantes                                                            18\n",
       "Situaci�n laboral: Inactivos: Labores del hogar                                                      18\n",
       "Situaci�n laboral: Inactivos: Pensionistas                                                           18\n",
       "Situaci�n laboral: Otra situaci�n laboral                                                            18\n",
       "Situaci�n Profesional (en trabajo principal): Trabajador por cuenta ajena con contrato indefinido    18\n",
       "Situaci�n Profesional (en trabajo principal): Trabajador por cuenta ajena con contrato temporal      18\n",
       "Situaci�n Profesional (en trabajo principal): Trabajador por cuenta propia  con empleados            18\n",
       "Situaci�n Profesional (en trabajo principal): Trabajador por cuenta propia sin empleados             18\n",
       "Situaci�n Profesional (en trabajo principal):  Ayuda familiar (sin sueldo estipulado)                18\n",
       "Jornada laboral (en trabajo principal) : A tiempo completo                                           18\n",
       "Jornada laboral (en trabajo principal) : A tiempo parcial                                            18\n",
       "Ocupaci�n principal: Manual                                                                          18\n",
       "Ocupaci�n principal: No Manual                                                                       18\n",
       "Ocupaci�n principal: Trabajadores TIC                                                                18\n",
       "Ocupaci�n principal: Otros trabajadores                                                              18\n",
       "Ingresos mensuales netos del hogar: Menos de 1.200 euros                                             18\n",
       "Ingresos mensuales netos del hogar: De 1.200 a menos de 1.900 euros                                  18\n",
       "Ingresos mensuales netos del hogar: De 1.900 a menos de 2.700 euros                                  18\n",
       "Ingresos mensuales netos del hogar: De 2.700 a menos de 3.900 euros                                  18\n",
       "Ingresos mensuales netos del hogar: 3.900 o m�s euros                                                18\n",
       "Ingresos mensuales netos del hogar: NS/NR                                                            18\n",
       "Name: count, dtype: int64"
      ]
     },
     "execution_count": 185,
     "metadata": {},
     "output_type": "execute_result"
    }
   ],
   "source": [
    "df_educacion['caracts_socioecon'].value_counts()"
   ]
  },
  {
   "cell_type": "code",
   "execution_count": 28,
   "id": "de7c2c9a",
   "metadata": {},
   "outputs": [
    {
     "data": {
      "text/html": [
       "<div>\n",
       "<style scoped>\n",
       "    .dataframe tbody tr th:only-of-type {\n",
       "        vertical-align: middle;\n",
       "    }\n",
       "\n",
       "    .dataframe tbody tr th {\n",
       "        vertical-align: top;\n",
       "    }\n",
       "\n",
       "    .dataframe thead th {\n",
       "        text-align: right;\n",
       "    }\n",
       "</style>\n",
       "<table border=\"1\" class=\"dataframe\">\n",
       "  <thead>\n",
       "    <tr style=\"text-align: right;\">\n",
       "      <th></th>\n",
       "      <th>sexo</th>\n",
       "      <th>caracts_socioecon</th>\n",
       "      <th>uso_TIC</th>\n",
       "      <th>total</th>\n",
       "    </tr>\n",
       "  </thead>\n",
       "  <tbody>\n",
       "    <tr>\n",
       "      <th>0</th>\n",
       "      <td>NaN</td>\n",
       "      <td>Total Personas</td>\n",
       "      <td>NaN</td>\n",
       "      <td>36663412</td>\n",
       "    </tr>\n",
       "    <tr>\n",
       "      <th>1</th>\n",
       "      <td>NaN</td>\n",
       "      <td>Total Personas</td>\n",
       "      <td>telef_mov</td>\n",
       "      <td>99,1</td>\n",
       "    </tr>\n",
       "    <tr>\n",
       "      <th>2</th>\n",
       "      <td>NaN</td>\n",
       "      <td>Total Personas</td>\n",
       "      <td>uso_internet_ultimos3meses</td>\n",
       "      <td>95,8</td>\n",
       "    </tr>\n",
       "    <tr>\n",
       "      <th>3</th>\n",
       "      <td>NaN</td>\n",
       "      <td>Total Personas</td>\n",
       "      <td>uso_internet_semanal</td>\n",
       "      <td>95</td>\n",
       "    </tr>\n",
       "    <tr>\n",
       "      <th>4</th>\n",
       "      <td>NaN</td>\n",
       "      <td>Total Personas</td>\n",
       "      <td>uso_internet_diario</td>\n",
       "      <td>91,5</td>\n",
       "    </tr>\n",
       "  </tbody>\n",
       "</table>\n",
       "</div>"
      ],
      "text/plain": [
       "  sexo caracts_socioecon                     uso_TIC     total\n",
       "0  NaN    Total Personas                         NaN  36663412\n",
       "1  NaN    Total Personas                   telef_mov      99,1\n",
       "2  NaN    Total Personas  uso_internet_ultimos3meses      95,8\n",
       "3  NaN    Total Personas        uso_internet_semanal        95\n",
       "4  NaN    Total Personas         uso_internet_diario      91,5"
      ]
     },
     "execution_count": 28,
     "metadata": {},
     "output_type": "execute_result"
    }
   ],
   "source": [
    "df_educacion.head()"
   ]
  },
  {
   "cell_type": "code",
   "execution_count": 186,
   "id": "92412a0d",
   "metadata": {},
   "outputs": [
    {
     "data": {
      "text/plain": [
       "(18, 4)"
      ]
     },
     "execution_count": 186,
     "metadata": {},
     "output_type": "execute_result"
    }
   ],
   "source": [
    "df_educacion[df_educacion['caracts_socioecon'] == 'Total Personas'].shape"
   ]
  },
  {
   "cell_type": "code",
   "execution_count": 187,
   "id": "5e9f777c",
   "metadata": {},
   "outputs": [
    {
     "data": {
      "text/plain": [
       "(594, 4)"
      ]
     },
     "execution_count": 187,
     "metadata": {},
     "output_type": "execute_result"
    }
   ],
   "source": [
    "df_educacion.shape"
   ]
  },
  {
   "cell_type": "code",
   "execution_count": 188,
   "id": "dcb3f85c",
   "metadata": {},
   "outputs": [
    {
     "data": {
      "text/plain": [
       "sexo                 198\n",
       "caracts_socioecon      0\n",
       "uso_TIC               99\n",
       "total                  0\n",
       "dtype: int64"
      ]
     },
     "execution_count": 188,
     "metadata": {},
     "output_type": "execute_result"
    }
   ],
   "source": [
    "df_educacion.isnull().sum()"
   ]
  },
  {
   "cell_type": "code",
   "execution_count": 189,
   "id": "2e27229b",
   "metadata": {},
   "outputs": [
    {
     "data": {
      "text/html": [
       "<div>\n",
       "<style scoped>\n",
       "    .dataframe tbody tr th:only-of-type {\n",
       "        vertical-align: middle;\n",
       "    }\n",
       "\n",
       "    .dataframe tbody tr th {\n",
       "        vertical-align: top;\n",
       "    }\n",
       "\n",
       "    .dataframe thead th {\n",
       "        text-align: right;\n",
       "    }\n",
       "</style>\n",
       "<table border=\"1\" class=\"dataframe\">\n",
       "  <thead>\n",
       "    <tr style=\"text-align: right;\">\n",
       "      <th></th>\n",
       "      <th>sexo</th>\n",
       "      <th>caracts_socioecon</th>\n",
       "      <th>uso_TIC</th>\n",
       "      <th>total</th>\n",
       "    </tr>\n",
       "  </thead>\n",
       "  <tbody>\n",
       "    <tr>\n",
       "      <th>1</th>\n",
       "      <td>NaN</td>\n",
       "      <td>Total Personas</td>\n",
       "      <td>telef_mov</td>\n",
       "      <td>99,1</td>\n",
       "    </tr>\n",
       "    <tr>\n",
       "      <th>2</th>\n",
       "      <td>NaN</td>\n",
       "      <td>Total Personas</td>\n",
       "      <td>uso_internet_ultimos3meses</td>\n",
       "      <td>95,8</td>\n",
       "    </tr>\n",
       "    <tr>\n",
       "      <th>3</th>\n",
       "      <td>NaN</td>\n",
       "      <td>Total Personas</td>\n",
       "      <td>uso_internet_semanal</td>\n",
       "      <td>95</td>\n",
       "    </tr>\n",
       "    <tr>\n",
       "      <th>4</th>\n",
       "      <td>NaN</td>\n",
       "      <td>Total Personas</td>\n",
       "      <td>uso_internet_diario</td>\n",
       "      <td>91,5</td>\n",
       "    </tr>\n",
       "    <tr>\n",
       "      <th>5</th>\n",
       "      <td>NaN</td>\n",
       "      <td>Total Personas</td>\n",
       "      <td>compra_online_ultimos3meses</td>\n",
       "      <td>56,7</td>\n",
       "    </tr>\n",
       "    <tr>\n",
       "      <th>...</th>\n",
       "      <td>...</td>\n",
       "      <td>...</td>\n",
       "      <td>...</td>\n",
       "      <td>...</td>\n",
       "    </tr>\n",
       "    <tr>\n",
       "      <th>589</th>\n",
       "      <td>mujer</td>\n",
       "      <td>Ingresos mensuales netos del hogar: NS/NR</td>\n",
       "      <td>telef_mov</td>\n",
       "      <td>100</td>\n",
       "    </tr>\n",
       "    <tr>\n",
       "      <th>590</th>\n",
       "      <td>mujer</td>\n",
       "      <td>Ingresos mensuales netos del hogar: NS/NR</td>\n",
       "      <td>uso_internet_ultimos3meses</td>\n",
       "      <td>90,7</td>\n",
       "    </tr>\n",
       "    <tr>\n",
       "      <th>591</th>\n",
       "      <td>mujer</td>\n",
       "      <td>Ingresos mensuales netos del hogar: NS/NR</td>\n",
       "      <td>uso_internet_semanal</td>\n",
       "      <td>90,7</td>\n",
       "    </tr>\n",
       "    <tr>\n",
       "      <th>592</th>\n",
       "      <td>mujer</td>\n",
       "      <td>Ingresos mensuales netos del hogar: NS/NR</td>\n",
       "      <td>uso_internet_diario</td>\n",
       "      <td>82,4</td>\n",
       "    </tr>\n",
       "    <tr>\n",
       "      <th>593</th>\n",
       "      <td>mujer</td>\n",
       "      <td>Ingresos mensuales netos del hogar: NS/NR</td>\n",
       "      <td>compra_online_ultimos3meses</td>\n",
       "      <td>38,6</td>\n",
       "    </tr>\n",
       "  </tbody>\n",
       "</table>\n",
       "<p>495 rows × 4 columns</p>\n",
       "</div>"
      ],
      "text/plain": [
       "      sexo                          caracts_socioecon  \\\n",
       "1      NaN                             Total Personas   \n",
       "2      NaN                             Total Personas   \n",
       "3      NaN                             Total Personas   \n",
       "4      NaN                             Total Personas   \n",
       "5      NaN                             Total Personas   \n",
       "..     ...                                        ...   \n",
       "589  mujer  Ingresos mensuales netos del hogar: NS/NR   \n",
       "590  mujer  Ingresos mensuales netos del hogar: NS/NR   \n",
       "591  mujer  Ingresos mensuales netos del hogar: NS/NR   \n",
       "592  mujer  Ingresos mensuales netos del hogar: NS/NR   \n",
       "593  mujer  Ingresos mensuales netos del hogar: NS/NR   \n",
       "\n",
       "                         uso_TIC total  \n",
       "1                      telef_mov  99,1  \n",
       "2     uso_internet_ultimos3meses  95,8  \n",
       "3           uso_internet_semanal    95  \n",
       "4            uso_internet_diario  91,5  \n",
       "5    compra_online_ultimos3meses  56,7  \n",
       "..                           ...   ...  \n",
       "589                    telef_mov   100  \n",
       "590   uso_internet_ultimos3meses  90,7  \n",
       "591         uso_internet_semanal  90,7  \n",
       "592          uso_internet_diario  82,4  \n",
       "593  compra_online_ultimos3meses  38,6  \n",
       "\n",
       "[495 rows x 4 columns]"
      ]
     },
     "execution_count": 189,
     "metadata": {},
     "output_type": "execute_result"
    }
   ],
   "source": [
    "df_educacion[df_educacion['uso_TIC'].notnull()]"
   ]
  },
  {
   "cell_type": "code",
   "execution_count": 190,
   "id": "aec3760f",
   "metadata": {},
   "outputs": [],
   "source": [
    "df_educacion = df_educacion[df_educacion['caracts_socioecon'] != 'Total Personas']"
   ]
  },
  {
   "cell_type": "code",
   "execution_count": 191,
   "id": "e3d4e0ec",
   "metadata": {},
   "outputs": [
    {
     "data": {
      "text/plain": [
       "caracts_socioecon\n",
       "Estudios terminados: Menos que primaria                         18\n",
       "Estudios terminados: Educaci�n Primaria                         18\n",
       "Estudios terminados: Primera etapa de Educaci�n Secundaria      18\n",
       "Estudios terminados: Segunda etapa de Educaci�n Secundaria      18\n",
       "Estudios terminados: Formaci�n Profesional de Grado Superior    18\n",
       "Name: count, dtype: int64"
      ]
     },
     "execution_count": 191,
     "metadata": {},
     "output_type": "execute_result"
    }
   ],
   "source": [
    "df_educacion['caracts_socioecon'].value_counts().head()"
   ]
  },
  {
   "cell_type": "code",
   "execution_count": 192,
   "id": "01b2749c",
   "metadata": {},
   "outputs": [
    {
     "data": {
      "text/plain": [
       "Index(['sexo', 'caracts_socioecon', 'uso_TIC', 'total'], dtype='object')"
      ]
     },
     "execution_count": 192,
     "metadata": {},
     "output_type": "execute_result"
    }
   ],
   "source": [
    "df_educacion.columns"
   ]
  },
  {
   "cell_type": "code",
   "execution_count": 193,
   "id": "c6011f4e",
   "metadata": {},
   "outputs": [
    {
     "data": {
      "text/plain": [
       "(576, 4)"
      ]
     },
     "execution_count": 193,
     "metadata": {},
     "output_type": "execute_result"
    }
   ],
   "source": [
    "df_educacion.shape"
   ]
  },
  {
   "cell_type": "code",
   "execution_count": 194,
   "id": "07269636",
   "metadata": {},
   "outputs": [],
   "source": [
    "mapeo = {\n",
    "    'Estudios terminados: Menos que primaria': 'Estudios terminados: Menos que primaria',\n",
    "    'Estudios terminados: Educaci�n Primaria': 'Estudios terminados: Educacion Primaria',\n",
    "    'Estudios terminados: Primera etapa de Educaci�n Secundaria': 'Estudios terminados: Primera etapa de Educacion Secundaria',\n",
    "    'Estudios terminados: Segunda etapa de Educaci�n Secundaria': 'Estudios terminados: Segunda etapa de Educacion Secundaria',\n",
    "    'Estudios terminados: Formaci�n Profesional de Grado Superior': 'Estudios terminados: Formacion Profesional de Grado Superior',\n",
    "    'Estudios terminados: Diplomatura universitaria y equivalentes': 'Estudios terminados: Diplomatura universitaria y equivalentes',\n",
    "    'Estudios terminados: Licenciatura universitaria, m�ster y equivalentes': 'Estudios terminados: Licenciatura universitaria, master y equivalentes',\n",
    "    'Estudios terminados: Doctorado universitario': 'Estudios terminados: Doctorado universitario',\n",
    "    'Estudios terminados: Otros': 'Estudios terminados: Otros',\n",
    "    'Situaci�n laboral: Activos ocupados': 'Situacion laboral: Activos ocupados',\n",
    "    'Situaci�n laboral: Activos parados': 'Situacion laboral: Activos parados',\n",
    "    'Situaci�n laboral: Inactivos: Estudiantes': 'Situacion laboral: Inactivos: Estudiantes',\n",
    "    'Situaci�n laboral: Inactivos: Labores del hogar': 'Situacion laboral: Inactivos: Labores del hogar',\n",
    "    'Situaci�n laboral: Inactivos: Pensionistas': 'Situacion laboral: Inactivos: Pensionistas',\n",
    "    'Situaci�n laboral: Otra situaci�n laboral': 'Situacion laboral: Otra situacion laboral',\n",
    "    'Situaci�n Profesional (en trabajo principal): Trabajador por cuenta ajena con contrato indefinido': 'Situacion Profesional (en trabajo principal): Trabajador por cuenta ajena con contrato indefinido',\n",
    "    'Situaci�n Profesional (en trabajo principal): Trabajador por cuenta ajena con contrato temporal': 'Situacion Profesional (en trabajo principal): Trabajador por cuenta ajena con contrato temporal',\n",
    "    'Situaci�n Profesional (en trabajo principal): Trabajador por cuenta propia  con empleados': 'Situacion Profesional (en trabajo principal): Trabajador por cuenta propia con empleados',\n",
    "    'Situaci�n Profesional (en trabajo principal): Trabajador por cuenta propia sin empleados': 'Situacion Profesional (en trabajo principal): Trabajador por cuenta propia sin empleados',\n",
    "    'Situaci�n Profesional (en trabajo principal):  Ayuda familiar (sin sueldo estipulado)': 'Situacion Profesional (en trabajo principal): Ayuda familiar (sin sueldo estipulado)',\n",
    "    'Jornada laboral (en trabajo principal) : A tiempo completo': 'Jornada laboral (en trabajo principal): A tiempo completo',\n",
    "    'Jornada laboral (en trabajo principal) : A tiempo parcial': 'Jornada laboral (en trabajo principal): A tiempo parcial',\n",
    "    'Ocupaci�n principal: Manual': 'Ocupacion principal: Manual',\n",
    "    'Ocupaci�n principal: No Manual': 'Ocupacion principal: No Manual',\n",
    "    'Ocupaci�n principal: Trabajadores TIC': 'Ocupacion principal: Trabajadores TIC',\n",
    "    'Ocupaci�n principal: Otros trabajadores': 'Ocupacion principal: Otros trabajadores',\n",
    "    'Ingresos mensuales netos del hogar: Menos de 1.200 euros': 'Ingresos mensuales netos del hogar: Menos de 1200 euros',\n",
    "    'Ingresos mensuales netos del hogar: De 1.200 a menos de 1.900 euros': 'Ingresos mensuales netos del hogar: De 1200 a menos de 1900 euros',\n",
    "    'Ingresos mensuales netos del hogar: De 1.900 a menos de 2.700 euros': 'Ingresos mensuales netos del hogar: De 1900 a menos de 2700 euros',\n",
    "    'Ingresos mensuales netos del hogar: De 2.700 a menos de 3.900 euros': 'Ingresos mensuales netos del hogar: De 2700 a menos de 3900 euros',\n",
    "    'Ingresos mensuales netos del hogar: 3.900 o m�s euros': 'Ingresos mensuales netos del hogar: 3900 o mas euros',\n",
    "    'Ingresos mensuales netos del hogar: NS/NR': 'Ingresos mensuales netos del hogar: NS/NR',\n",
    "}\n",
    "df_educacion['caracts_socioecon'] = df_educacion['caracts_socioecon'].map(mapeo)\n"
   ]
  },
  {
   "cell_type": "code",
   "execution_count": 195,
   "id": "681c863a",
   "metadata": {},
   "outputs": [
    {
     "data": {
      "text/plain": [
       "(576,)"
      ]
     },
     "execution_count": 195,
     "metadata": {},
     "output_type": "execute_result"
    }
   ],
   "source": [
    "df_educacion['caracts_socioecon'].shape"
   ]
  },
  {
   "cell_type": "code",
   "execution_count": 196,
   "id": "7f360a7a",
   "metadata": {},
   "outputs": [
    {
     "data": {
      "text/html": [
       "<div>\n",
       "<style scoped>\n",
       "    .dataframe tbody tr th:only-of-type {\n",
       "        vertical-align: middle;\n",
       "    }\n",
       "\n",
       "    .dataframe tbody tr th {\n",
       "        vertical-align: top;\n",
       "    }\n",
       "\n",
       "    .dataframe thead th {\n",
       "        text-align: right;\n",
       "    }\n",
       "</style>\n",
       "<table border=\"1\" class=\"dataframe\">\n",
       "  <thead>\n",
       "    <tr style=\"text-align: right;\">\n",
       "      <th></th>\n",
       "      <th>0</th>\n",
       "      <th>1</th>\n",
       "      <th>2</th>\n",
       "    </tr>\n",
       "  </thead>\n",
       "  <tbody>\n",
       "    <tr>\n",
       "      <th>6</th>\n",
       "      <td>Estudios terminados</td>\n",
       "      <td>Menos que primaria</td>\n",
       "      <td>None</td>\n",
       "    </tr>\n",
       "    <tr>\n",
       "      <th>7</th>\n",
       "      <td>Estudios terminados</td>\n",
       "      <td>Menos que primaria</td>\n",
       "      <td>None</td>\n",
       "    </tr>\n",
       "    <tr>\n",
       "      <th>8</th>\n",
       "      <td>Estudios terminados</td>\n",
       "      <td>Menos que primaria</td>\n",
       "      <td>None</td>\n",
       "    </tr>\n",
       "    <tr>\n",
       "      <th>9</th>\n",
       "      <td>Estudios terminados</td>\n",
       "      <td>Menos que primaria</td>\n",
       "      <td>None</td>\n",
       "    </tr>\n",
       "    <tr>\n",
       "      <th>10</th>\n",
       "      <td>Estudios terminados</td>\n",
       "      <td>Menos que primaria</td>\n",
       "      <td>None</td>\n",
       "    </tr>\n",
       "    <tr>\n",
       "      <th>...</th>\n",
       "      <td>...</td>\n",
       "      <td>...</td>\n",
       "      <td>...</td>\n",
       "    </tr>\n",
       "    <tr>\n",
       "      <th>589</th>\n",
       "      <td>Ingresos mensuales netos del hogar</td>\n",
       "      <td>NS/NR</td>\n",
       "      <td>None</td>\n",
       "    </tr>\n",
       "    <tr>\n",
       "      <th>590</th>\n",
       "      <td>Ingresos mensuales netos del hogar</td>\n",
       "      <td>NS/NR</td>\n",
       "      <td>None</td>\n",
       "    </tr>\n",
       "    <tr>\n",
       "      <th>591</th>\n",
       "      <td>Ingresos mensuales netos del hogar</td>\n",
       "      <td>NS/NR</td>\n",
       "      <td>None</td>\n",
       "    </tr>\n",
       "    <tr>\n",
       "      <th>592</th>\n",
       "      <td>Ingresos mensuales netos del hogar</td>\n",
       "      <td>NS/NR</td>\n",
       "      <td>None</td>\n",
       "    </tr>\n",
       "    <tr>\n",
       "      <th>593</th>\n",
       "      <td>Ingresos mensuales netos del hogar</td>\n",
       "      <td>NS/NR</td>\n",
       "      <td>None</td>\n",
       "    </tr>\n",
       "  </tbody>\n",
       "</table>\n",
       "<p>576 rows × 3 columns</p>\n",
       "</div>"
      ],
      "text/plain": [
       "                                      0                    1     2\n",
       "6                   Estudios terminados   Menos que primaria  None\n",
       "7                   Estudios terminados   Menos que primaria  None\n",
       "8                   Estudios terminados   Menos que primaria  None\n",
       "9                   Estudios terminados   Menos que primaria  None\n",
       "10                  Estudios terminados   Menos que primaria  None\n",
       "..                                  ...                  ...   ...\n",
       "589  Ingresos mensuales netos del hogar                NS/NR  None\n",
       "590  Ingresos mensuales netos del hogar                NS/NR  None\n",
       "591  Ingresos mensuales netos del hogar                NS/NR  None\n",
       "592  Ingresos mensuales netos del hogar                NS/NR  None\n",
       "593  Ingresos mensuales netos del hogar                NS/NR  None\n",
       "\n",
       "[576 rows x 3 columns]"
      ]
     },
     "execution_count": 196,
     "metadata": {},
     "output_type": "execute_result"
    }
   ],
   "source": [
    "df_educacion['caracts_socioecon'].str.split(\":\", expand=True)"
   ]
  },
  {
   "cell_type": "code",
   "execution_count": 197,
   "id": "ffa630e4",
   "metadata": {},
   "outputs": [],
   "source": [
    "df_educacion[['caracts_socioecon_nombre','detalle_socioecon']] = df_educacion['caracts_socioecon'].str.split(\":\", n=1, expand=True).get([0,1])"
   ]
  },
  {
   "cell_type": "code",
   "execution_count": 198,
   "id": "dcfb2ff5",
   "metadata": {},
   "outputs": [],
   "source": [
    "df_educacion = df_educacion.drop(columns ='caracts_socioecon')"
   ]
  },
  {
   "cell_type": "code",
   "execution_count": 199,
   "id": "2fad34a2",
   "metadata": {},
   "outputs": [],
   "source": [
    "df_educacion = df_educacion[df_educacion['uso_TIC'].notnull()]"
   ]
  },
  {
   "cell_type": "code",
   "execution_count": 200,
   "id": "98e39d58",
   "metadata": {},
   "outputs": [
    {
     "data": {
      "text/html": [
       "<div>\n",
       "<style scoped>\n",
       "    .dataframe tbody tr th:only-of-type {\n",
       "        vertical-align: middle;\n",
       "    }\n",
       "\n",
       "    .dataframe tbody tr th {\n",
       "        vertical-align: top;\n",
       "    }\n",
       "\n",
       "    .dataframe thead th {\n",
       "        text-align: right;\n",
       "    }\n",
       "</style>\n",
       "<table border=\"1\" class=\"dataframe\">\n",
       "  <thead>\n",
       "    <tr style=\"text-align: right;\">\n",
       "      <th></th>\n",
       "      <th>sexo</th>\n",
       "      <th>uso_TIC</th>\n",
       "      <th>total</th>\n",
       "      <th>caracts_socioecon_nombre</th>\n",
       "      <th>detalle_socioecon</th>\n",
       "    </tr>\n",
       "  </thead>\n",
       "  <tbody>\n",
       "    <tr>\n",
       "      <th>381</th>\n",
       "      <td>hombre</td>\n",
       "      <td>uso_internet_semanal</td>\n",
       "      <td>95,1</td>\n",
       "      <td>Ingresos mensuales netos del hogar</td>\n",
       "      <td>De 2700 a menos de 3900 euros</td>\n",
       "    </tr>\n",
       "    <tr>\n",
       "      <th>593</th>\n",
       "      <td>mujer</td>\n",
       "      <td>compra_online_ultimos3meses</td>\n",
       "      <td>38,6</td>\n",
       "      <td>Ingresos mensuales netos del hogar</td>\n",
       "      <td>NS/NR</td>\n",
       "    </tr>\n",
       "    <tr>\n",
       "      <th>380</th>\n",
       "      <td>hombre</td>\n",
       "      <td>uso_internet_ultimos3meses</td>\n",
       "      <td>96,2</td>\n",
       "      <td>Ingresos mensuales netos del hogar</td>\n",
       "      <td>De 2700 a menos de 3900 euros</td>\n",
       "    </tr>\n",
       "    <tr>\n",
       "      <th>512</th>\n",
       "      <td>mujer</td>\n",
       "      <td>uso_internet_ultimos3meses</td>\n",
       "      <td>98,3</td>\n",
       "      <td>Situacion Profesional (en trabajo principal)</td>\n",
       "      <td>Trabajador por cuenta propia sin empleados</td>\n",
       "    </tr>\n",
       "    <tr>\n",
       "      <th>28</th>\n",
       "      <td>NaN</td>\n",
       "      <td>uso_internet_diario</td>\n",
       "      <td>94,6</td>\n",
       "      <td>Estudios terminados</td>\n",
       "      <td>Segunda etapa de Educacion Secundaria</td>\n",
       "    </tr>\n",
       "    <tr>\n",
       "      <th>335</th>\n",
       "      <td>hombre</td>\n",
       "      <td>compra_online_ultimos3meses</td>\n",
       "      <td>65,3</td>\n",
       "      <td>Jornada laboral (en trabajo principal)</td>\n",
       "      <td>A tiempo parcial</td>\n",
       "    </tr>\n",
       "    <tr>\n",
       "      <th>501</th>\n",
       "      <td>mujer</td>\n",
       "      <td>uso_internet_semanal</td>\n",
       "      <td>98,5</td>\n",
       "      <td>Situacion Profesional (en trabajo principal)</td>\n",
       "      <td>Trabajador por cuenta ajena con contrato temp...</td>\n",
       "    </tr>\n",
       "    <tr>\n",
       "      <th>467</th>\n",
       "      <td>mujer</td>\n",
       "      <td>compra_online_ultimos3meses</td>\n",
       "      <td>53,9</td>\n",
       "      <td>Situacion laboral</td>\n",
       "      <td>Activos parados</td>\n",
       "    </tr>\n",
       "    <tr>\n",
       "      <th>524</th>\n",
       "      <td>mujer</td>\n",
       "      <td>uso_internet_ultimos3meses</td>\n",
       "      <td>99,3</td>\n",
       "      <td>Jornada laboral (en trabajo principal)</td>\n",
       "      <td>A tiempo completo</td>\n",
       "    </tr>\n",
       "    <tr>\n",
       "      <th>272</th>\n",
       "      <td>hombre</td>\n",
       "      <td>uso_internet_ultimos3meses</td>\n",
       "      <td>99,9</td>\n",
       "      <td>Situacion laboral</td>\n",
       "      <td>Inactivos: Estudiantes</td>\n",
       "    </tr>\n",
       "  </tbody>\n",
       "</table>\n",
       "</div>"
      ],
      "text/plain": [
       "       sexo                      uso_TIC total  \\\n",
       "381  hombre         uso_internet_semanal  95,1   \n",
       "593   mujer  compra_online_ultimos3meses  38,6   \n",
       "380  hombre   uso_internet_ultimos3meses  96,2   \n",
       "512   mujer   uso_internet_ultimos3meses  98,3   \n",
       "28      NaN          uso_internet_diario  94,6   \n",
       "335  hombre  compra_online_ultimos3meses  65,3   \n",
       "501   mujer         uso_internet_semanal  98,5   \n",
       "467   mujer  compra_online_ultimos3meses  53,9   \n",
       "524   mujer   uso_internet_ultimos3meses  99,3   \n",
       "272  hombre   uso_internet_ultimos3meses  99,9   \n",
       "\n",
       "                         caracts_socioecon_nombre  \\\n",
       "381            Ingresos mensuales netos del hogar   \n",
       "593            Ingresos mensuales netos del hogar   \n",
       "380            Ingresos mensuales netos del hogar   \n",
       "512  Situacion Profesional (en trabajo principal)   \n",
       "28                            Estudios terminados   \n",
       "335        Jornada laboral (en trabajo principal)   \n",
       "501  Situacion Profesional (en trabajo principal)   \n",
       "467                             Situacion laboral   \n",
       "524        Jornada laboral (en trabajo principal)   \n",
       "272                             Situacion laboral   \n",
       "\n",
       "                                     detalle_socioecon  \n",
       "381                      De 2700 a menos de 3900 euros  \n",
       "593                                              NS/NR  \n",
       "380                      De 2700 a menos de 3900 euros  \n",
       "512         Trabajador por cuenta propia sin empleados  \n",
       "28               Segunda etapa de Educacion Secundaria  \n",
       "335                                   A tiempo parcial  \n",
       "501   Trabajador por cuenta ajena con contrato temp...  \n",
       "467                                    Activos parados  \n",
       "524                                  A tiempo completo  \n",
       "272                             Inactivos: Estudiantes  "
      ]
     },
     "execution_count": 200,
     "metadata": {},
     "output_type": "execute_result"
    }
   ],
   "source": [
    "df_educacion.sample(10)"
   ]
  },
  {
   "cell_type": "code",
   "execution_count": 201,
   "id": "25df4512",
   "metadata": {},
   "outputs": [],
   "source": [
    "df_educacion.to_csv('files/educacion_TIC_clean.csv', index=False)"
   ]
  },
  {
   "cell_type": "code",
   "execution_count": 106,
   "id": "95daf6b0",
   "metadata": {},
   "outputs": [],
   "source": [
    "df_equipamiento = pd.read_csv('../files/inferencias/equipamiento viviendas.csv',sep=';', encoding='latin1')"
   ]
  },
  {
   "cell_type": "code",
   "execution_count": 107,
   "id": "db4a39d1",
   "metadata": {},
   "outputs": [
    {
     "data": {
      "text/html": [
       "<div>\n",
       "<style scoped>\n",
       "    .dataframe tbody tr th:only-of-type {\n",
       "        vertical-align: middle;\n",
       "    }\n",
       "\n",
       "    .dataframe tbody tr th {\n",
       "        vertical-align: top;\n",
       "    }\n",
       "\n",
       "    .dataframe thead th {\n",
       "        text-align: right;\n",
       "    }\n",
       "</style>\n",
       "<table border=\"1\" class=\"dataframe\">\n",
       "  <thead>\n",
       "    <tr style=\"text-align: right;\">\n",
       "      <th></th>\n",
       "      <th>Total Nacional</th>\n",
       "      <th>Comunidades y Ciudades Autï¿½nomas</th>\n",
       "      <th>Tipo de equipamiento</th>\n",
       "      <th>Total</th>\n",
       "    </tr>\n",
       "  </thead>\n",
       "  <tbody>\n",
       "    <tr>\n",
       "      <th>55</th>\n",
       "      <td>Total Nacional</td>\n",
       "      <td>05 Canarias</td>\n",
       "      <td>Viviendas con conexiï¿½n de Banda Ancha</td>\n",
       "      <td>96,8</td>\n",
       "    </tr>\n",
       "    <tr>\n",
       "      <th>198</th>\n",
       "      <td>Total Nacional</td>\n",
       "      <td>19 Melilla</td>\n",
       "      <td>Viviendas con telï¿½fono fijo</td>\n",
       "      <td>52,8</td>\n",
       "    </tr>\n",
       "    <tr>\n",
       "      <th>89</th>\n",
       "      <td>Total Nacional</td>\n",
       "      <td>08 Castilla - La Mancha</td>\n",
       "      <td>Viviendas con telï¿½fono mï¿½vil</td>\n",
       "      <td>99,3</td>\n",
       "    </tr>\n",
       "    <tr>\n",
       "      <th>11</th>\n",
       "      <td>Total Nacional</td>\n",
       "      <td>01 Andalucï¿½a</td>\n",
       "      <td>Ordenadores de cualquier tipo: incluidos netbo...</td>\n",
       "      <td>80,7</td>\n",
       "    </tr>\n",
       "    <tr>\n",
       "      <th>80</th>\n",
       "      <td>Total Nacional</td>\n",
       "      <td>08 Castilla - La Mancha</td>\n",
       "      <td>Total Viviendas</td>\n",
       "      <td>743727</td>\n",
       "    </tr>\n",
       "    <tr>\n",
       "      <th>44</th>\n",
       "      <td>Total Nacional</td>\n",
       "      <td>04 Balears, Illes</td>\n",
       "      <td>Viviendas que disponen de acceso a Internet</td>\n",
       "      <td>97,7</td>\n",
       "    </tr>\n",
       "    <tr>\n",
       "      <th>32</th>\n",
       "      <td>Total Nacional</td>\n",
       "      <td>03 Asturias, Principado de</td>\n",
       "      <td>Ordenadores de sobremesa o portï¿½til (no incl...</td>\n",
       "      <td>68,4</td>\n",
       "    </tr>\n",
       "    <tr>\n",
       "      <th>177</th>\n",
       "      <td>Total Nacional</td>\n",
       "      <td>17 Rioja, La</td>\n",
       "      <td>Viviendas con conexiï¿½n solo a travï¿½s de ba...</td>\n",
       "      <td>13,1</td>\n",
       "    </tr>\n",
       "    <tr>\n",
       "      <th>115</th>\n",
       "      <td>Total Nacional</td>\n",
       "      <td>11 Extremadura</td>\n",
       "      <td>Viviendas con conexiï¿½n de Banda Ancha</td>\n",
       "      <td>95</td>\n",
       "    </tr>\n",
       "    <tr>\n",
       "      <th>9</th>\n",
       "      <td>Total Nacional</td>\n",
       "      <td>NaN</td>\n",
       "      <td>Viviendas con telï¿½fono mï¿½vil</td>\n",
       "      <td>99,5</td>\n",
       "    </tr>\n",
       "  </tbody>\n",
       "</table>\n",
       "</div>"
      ],
      "text/plain": [
       "     Total Nacional Comunidades y Ciudades Autï¿½nomas  \\\n",
       "55   Total Nacional                        05 Canarias   \n",
       "198  Total Nacional                         19 Melilla   \n",
       "89   Total Nacional            08 Castilla - La Mancha   \n",
       "11   Total Nacional                     01 Andalucï¿½a   \n",
       "80   Total Nacional            08 Castilla - La Mancha   \n",
       "44   Total Nacional                  04 Balears, Illes   \n",
       "32   Total Nacional         03 Asturias, Principado de   \n",
       "177  Total Nacional                       17 Rioja, La   \n",
       "115  Total Nacional                     11 Extremadura   \n",
       "9    Total Nacional                                NaN   \n",
       "\n",
       "                                  Tipo de equipamiento   Total  \n",
       "55             Viviendas con conexiï¿½n de Banda Ancha    96,8  \n",
       "198                      Viviendas con telï¿½fono fijo    52,8  \n",
       "89                    Viviendas con telï¿½fono mï¿½vil    99,3  \n",
       "11   Ordenadores de cualquier tipo: incluidos netbo...    80,7  \n",
       "80                                     Total Viviendas  743727  \n",
       "44         Viviendas que disponen de acceso a Internet    97,7  \n",
       "32   Ordenadores de sobremesa o portï¿½til (no incl...    68,4  \n",
       "177  Viviendas con conexiï¿½n solo a travï¿½s de ba...    13,1  \n",
       "115            Viviendas con conexiï¿½n de Banda Ancha      95  \n",
       "9                     Viviendas con telï¿½fono mï¿½vil    99,5  "
      ]
     },
     "execution_count": 107,
     "metadata": {},
     "output_type": "execute_result"
    }
   ],
   "source": [
    "df_equipamiento.sample(10)"
   ]
  },
  {
   "cell_type": "code",
   "execution_count": 90,
   "id": "b57c51e3",
   "metadata": {},
   "outputs": [
    {
     "data": {
      "text/plain": [
       "Index(['Total Nacional', 'Comunidades y Ciudades Autï¿½nomas',\n",
       "       'Tipo de equipamiento', 'Total'],\n",
       "      dtype='object')"
      ]
     },
     "execution_count": 90,
     "metadata": {},
     "output_type": "execute_result"
    }
   ],
   "source": [
    "df_equipamiento.columns"
   ]
  },
  {
   "cell_type": "code",
   "execution_count": 108,
   "id": "cc28eafb",
   "metadata": {},
   "outputs": [],
   "source": [
    "df_equipamiento = df_equipamiento.rename(columns = {'Comunidades y Ciudades Autï¿½nomas':'CCAA'})"
   ]
  },
  {
   "cell_type": "code",
   "execution_count": 94,
   "id": "3b1c1ee1",
   "metadata": {},
   "outputs": [
    {
     "data": {
      "text/plain": [
       "Index(['Total Nacional', 'CCAA', 'Tipo de equipamiento', 'Total'], dtype='object')"
      ]
     },
     "execution_count": 94,
     "metadata": {},
     "output_type": "execute_result"
    }
   ],
   "source": [
    "df_equipamiento.columns"
   ]
  },
  {
   "cell_type": "code",
   "execution_count": 109,
   "id": "6cab75a3",
   "metadata": {},
   "outputs": [
    {
     "data": {
      "text/plain": [
       "array([nan, '01 Andalucï¿½a', '02 Aragï¿½n', '03 Asturias, Principado de',\n",
       "       '04 Balears, Illes', '05 Canarias', '06 Cantabria',\n",
       "       '07 Castilla y Leï¿½n', '08 Castilla - La Mancha', '09 Cataluï¿½a',\n",
       "       '10 Comunitat Valenciana', '11 Extremadura', '12 Galicia',\n",
       "       '13 Madrid, Comunidad de', '14 Murcia, Regiï¿½n de',\n",
       "       '15 Navarra, Comunidad Foral de', '16 Paï¿½s Vasco',\n",
       "       '17 Rioja, La', '18 Ceuta', '19 Melilla'], dtype=object)"
      ]
     },
     "execution_count": 109,
     "metadata": {},
     "output_type": "execute_result"
    }
   ],
   "source": [
    "df_equipamiento['CCAA'].unique()"
   ]
  },
  {
   "cell_type": "code",
   "execution_count": 110,
   "id": "4acbee5a",
   "metadata": {},
   "outputs": [],
   "source": [
    "df_equipamiento['CCAA'] = df_equipamiento['CCAA'].str.replace(r'^\\d+\\s+', '', regex=True)"
   ]
  },
  {
   "cell_type": "code",
   "execution_count": 111,
   "id": "9ce6546c",
   "metadata": {},
   "outputs": [
    {
     "data": {
      "text/plain": [
       "array([nan, 'Andalucï¿½a', 'Aragï¿½n', 'Asturias, Principado de',\n",
       "       'Balears, Illes', 'Canarias', 'Cantabria', 'Castilla y Leï¿½n',\n",
       "       'Castilla - La Mancha', 'Cataluï¿½a', 'Comunitat Valenciana',\n",
       "       'Extremadura', 'Galicia', 'Madrid, Comunidad de',\n",
       "       'Murcia, Regiï¿½n de', 'Navarra, Comunidad Foral de',\n",
       "       'Paï¿½s Vasco', 'Rioja, La', 'Ceuta', 'Melilla'], dtype=object)"
      ]
     },
     "execution_count": 111,
     "metadata": {},
     "output_type": "execute_result"
    }
   ],
   "source": [
    "df_equipamiento['CCAA'].unique()"
   ]
  },
  {
   "cell_type": "code",
   "execution_count": null,
   "id": "da3fc79a",
   "metadata": {},
   "outputs": [],
   "source": [
    "mapeo_ccaa = {\n",
    "    'Andalucï¿½a': 'Andalucía',\n",
    "    'Aragï¿½n': 'Aragón',\n",
    "    'Asturias, Principado de': 'Asturias',\n",
    "    'Balears, Illes': 'Baleares',\n",
    "    'Canarias': 'Canarias',\n",
    "    'Cantabria': 'Cantabria',\n",
    "    'Castilla y Leï¿½n': 'Castilla y León',\n",
    "    'Castilla - La Mancha': 'Castilla-La Mancha',\n",
    "    'Cataluï¿½a': 'Cataluña',\n",
    "    'Comunitat Valenciana': 'Valencia',\n",
    "    'Extremadura': 'Extremadura',\n",
    "    'Galicia': 'Galicia',\n",
    "    'Madrid, Comunidad de': 'Madrid',\n",
    "    'Murcia, Regiï¿½n de': 'Murcia',\n",
    "    'Navarra, Comunidad Foral de': 'Navarra',\n",
    "    'Paï¿½s Vasco': 'País Vasco',\n",
    "    'Rioja, La': 'La Rioja',\n",
    "    'Ceuta': 'Ceuta',\n",
    "    'Melilla': 'Melilla'\n",
    "}\n",
    "\n",
    "df_equipamiento['CCAA'] = df_equipamiento['CCAA'].map(mapeo_ccaa)"
   ]
  },
  {
   "cell_type": "code",
   "execution_count": null,
   "id": "ec9f24a8",
   "metadata": {},
   "outputs": [
    {
     "data": {
      "text/plain": [
       "array([nan, 'Andalucía', 'Aragón', 'Asturias', 'Baleares', 'Canarias',\n",
       "       'Cantabria', 'Castilla y León', 'Castilla-La Mancha', 'Cataluña',\n",
       "       'Valencia', 'Extremadura', 'Galicia', 'Madrid', 'Murcia',\n",
       "       'Navarra', 'País Vasco', 'La Rioja', 'Ceuta', 'Melilla'],\n",
       "      dtype=object)"
      ]
     },
     "execution_count": 115,
     "metadata": {},
     "output_type": "execute_result"
    }
   ],
   "source": [
    "df_equipamiento['CCAA'].unique()"
   ]
  },
  {
   "cell_type": "code",
   "execution_count": 119,
   "id": "6745ade8",
   "metadata": {},
   "outputs": [
    {
     "data": {
      "text/plain": [
       "array(['Total Viviendas',\n",
       "       'Ordenadores de cualquier tipo: incluidos netbooks, tablets, de mano, etc.',\n",
       "       'Ordenadores de sobremesa o portï¿½til (no incluye tablet)',\n",
       "       'Ordenadores tipo Tablet',\n",
       "       'Viviendas que disponen de acceso a Internet',\n",
       "       'Viviendas con conexiï¿½n de Banda Ancha',\n",
       "       'Viviendas con conexiï¿½n de banda ancha fija',\n",
       "       'Viviendas con conexiï¿½n solo a travï¿½s de banda ancha  mï¿½vil',\n",
       "       'Viviendas con telï¿½fono fijo',\n",
       "       'Viviendas con telï¿½fono mï¿½vil'], dtype=object)"
      ]
     },
     "execution_count": 119,
     "metadata": {},
     "output_type": "execute_result"
    }
   ],
   "source": [
    "df_equipamiento['Tipo de equipamiento'].unique()"
   ]
  },
  {
   "cell_type": "code",
   "execution_count": 118,
   "id": "4f3205df",
   "metadata": {},
   "outputs": [
    {
     "data": {
      "text/html": [
       "<div>\n",
       "<style scoped>\n",
       "    .dataframe tbody tr th:only-of-type {\n",
       "        vertical-align: middle;\n",
       "    }\n",
       "\n",
       "    .dataframe tbody tr th {\n",
       "        vertical-align: top;\n",
       "    }\n",
       "\n",
       "    .dataframe thead th {\n",
       "        text-align: right;\n",
       "    }\n",
       "</style>\n",
       "<table border=\"1\" class=\"dataframe\">\n",
       "  <thead>\n",
       "    <tr style=\"text-align: right;\">\n",
       "      <th></th>\n",
       "      <th>Total Nacional</th>\n",
       "      <th>CCAA</th>\n",
       "      <th>Tipo de equipamiento</th>\n",
       "      <th>Total</th>\n",
       "    </tr>\n",
       "  </thead>\n",
       "  <tbody>\n",
       "    <tr>\n",
       "      <th>0</th>\n",
       "      <td>Total Nacional</td>\n",
       "      <td>NaN</td>\n",
       "      <td>Total Viviendas</td>\n",
       "      <td>17179652</td>\n",
       "    </tr>\n",
       "    <tr>\n",
       "      <th>1</th>\n",
       "      <td>Total Nacional</td>\n",
       "      <td>NaN</td>\n",
       "      <td>Ordenadores de cualquier tipo: incluidos netbo...</td>\n",
       "      <td>83</td>\n",
       "    </tr>\n",
       "    <tr>\n",
       "      <th>2</th>\n",
       "      <td>Total Nacional</td>\n",
       "      <td>NaN</td>\n",
       "      <td>Ordenadores de sobremesa o portï¿½til (no incl...</td>\n",
       "      <td>77,6</td>\n",
       "    </tr>\n",
       "    <tr>\n",
       "      <th>3</th>\n",
       "      <td>Total Nacional</td>\n",
       "      <td>NaN</td>\n",
       "      <td>Ordenadores tipo Tablet</td>\n",
       "      <td>55,8</td>\n",
       "    </tr>\n",
       "    <tr>\n",
       "      <th>4</th>\n",
       "      <td>Total Nacional</td>\n",
       "      <td>NaN</td>\n",
       "      <td>Viviendas que disponen de acceso a Internet</td>\n",
       "      <td>96,8</td>\n",
       "    </tr>\n",
       "    <tr>\n",
       "      <th>5</th>\n",
       "      <td>Total Nacional</td>\n",
       "      <td>NaN</td>\n",
       "      <td>Viviendas con conexiï¿½n de Banda Ancha</td>\n",
       "      <td>96,8</td>\n",
       "    </tr>\n",
       "    <tr>\n",
       "      <th>6</th>\n",
       "      <td>Total Nacional</td>\n",
       "      <td>NaN</td>\n",
       "      <td>Viviendas con conexiï¿½n de banda ancha fija</td>\n",
       "      <td>85,7</td>\n",
       "    </tr>\n",
       "    <tr>\n",
       "      <th>7</th>\n",
       "      <td>Total Nacional</td>\n",
       "      <td>NaN</td>\n",
       "      <td>Viviendas con conexiï¿½n solo a travï¿½s de ba...</td>\n",
       "      <td>11,1</td>\n",
       "    </tr>\n",
       "    <tr>\n",
       "      <th>8</th>\n",
       "      <td>Total Nacional</td>\n",
       "      <td>NaN</td>\n",
       "      <td>Viviendas con telï¿½fono fijo</td>\n",
       "      <td>53,9</td>\n",
       "    </tr>\n",
       "    <tr>\n",
       "      <th>9</th>\n",
       "      <td>Total Nacional</td>\n",
       "      <td>NaN</td>\n",
       "      <td>Viviendas con telï¿½fono mï¿½vil</td>\n",
       "      <td>99,5</td>\n",
       "    </tr>\n",
       "  </tbody>\n",
       "</table>\n",
       "</div>"
      ],
      "text/plain": [
       "   Total Nacional CCAA                               Tipo de equipamiento  \\\n",
       "0  Total Nacional  NaN                                    Total Viviendas   \n",
       "1  Total Nacional  NaN  Ordenadores de cualquier tipo: incluidos netbo...   \n",
       "2  Total Nacional  NaN  Ordenadores de sobremesa o portï¿½til (no incl...   \n",
       "3  Total Nacional  NaN                            Ordenadores tipo Tablet   \n",
       "4  Total Nacional  NaN        Viviendas que disponen de acceso a Internet   \n",
       "5  Total Nacional  NaN            Viviendas con conexiï¿½n de Banda Ancha   \n",
       "6  Total Nacional  NaN       Viviendas con conexiï¿½n de banda ancha fija   \n",
       "7  Total Nacional  NaN  Viviendas con conexiï¿½n solo a travï¿½s de ba...   \n",
       "8  Total Nacional  NaN                      Viviendas con telï¿½fono fijo   \n",
       "9  Total Nacional  NaN                   Viviendas con telï¿½fono mï¿½vil   \n",
       "\n",
       "      Total  \n",
       "0  17179652  \n",
       "1        83  \n",
       "2      77,6  \n",
       "3      55,8  \n",
       "4      96,8  \n",
       "5      96,8  \n",
       "6      85,7  \n",
       "7      11,1  \n",
       "8      53,9  \n",
       "9      99,5  "
      ]
     },
     "execution_count": 118,
     "metadata": {},
     "output_type": "execute_result"
    }
   ],
   "source": [
    "df_equipamiento[df_equipamiento['CCAA'].isnull()]"
   ]
  },
  {
   "cell_type": "code",
   "execution_count": 124,
   "id": "63f2319f",
   "metadata": {},
   "outputs": [],
   "source": [
    "mapeo_variables = {\n",
    "    'Ordenadores de cualquier tipo: incluidos netbooks, tablets, de mano, etc.': 'Ordenadores de cualquier tipo: incluidos netbooks, tablets, de mano, etc.',\n",
    "    'Ordenadores de sobremesa o portï¿½til (no incluye tablet)': 'Ordenadores de sobremesa o portátil (no incluye tablet)',\n",
    "    'Ordenadores tipo Tablet': 'Ordenadores tipo Tablet',\n",
    "    'Viviendas que disponen de acceso a Internet': 'Viviendas que disponen de acceso a Internet',\n",
    "    'Viviendas con conexiï¿½n de Banda Ancha': 'Viviendas con conexión de Banda Ancha',\n",
    "    'Viviendas con conexiï¿½n de banda ancha fija': 'Viviendas con conexión de banda ancha fija',\n",
    "    'Viviendas con conexiï¿½n solo a travï¿½s de banda ancha  mï¿½vil': 'Viviendas con conexión solo a través de banda ancha móvil',\n",
    "    'Viviendas con telï¿½fono fijo': 'Viviendas con teléfono fijo',\n",
    "    'Viviendas con telï¿½fono mï¿½vil': 'Viviendas con teléfono móvil'\n",
    "}\n",
    "df_equipamiento['Tipo de equipamiento'] = df_equipamiento['Tipo de equipamiento'].map(mapeo_variables)"
   ]
  },
  {
   "cell_type": "code",
   "execution_count": 125,
   "id": "f4aa56e8",
   "metadata": {},
   "outputs": [
    {
     "data": {
      "text/plain": [
       "array([nan,\n",
       "       'Ordenadores de cualquier tipo: incluidos netbooks, tablets, de mano, etc.',\n",
       "       'Ordenadores de sobremesa o portátil (no incluye tablet)',\n",
       "       'Ordenadores tipo Tablet',\n",
       "       'Viviendas que disponen de acceso a Internet',\n",
       "       'Viviendas con conexión de Banda Ancha',\n",
       "       'Viviendas con conexión de banda ancha fija',\n",
       "       'Viviendas con conexión solo a través de banda ancha móvil',\n",
       "       'Viviendas con teléfono fijo', 'Viviendas con teléfono móvil'],\n",
       "      dtype=object)"
      ]
     },
     "execution_count": 125,
     "metadata": {},
     "output_type": "execute_result"
    }
   ],
   "source": [
    "df_equipamiento['Tipo de equipamiento'].unique()"
   ]
  },
  {
   "cell_type": "code",
   "execution_count": 130,
   "id": "3dd6d9f4",
   "metadata": {},
   "outputs": [
    {
     "data": {
      "text/html": [
       "<div>\n",
       "<style scoped>\n",
       "    .dataframe tbody tr th:only-of-type {\n",
       "        vertical-align: middle;\n",
       "    }\n",
       "\n",
       "    .dataframe tbody tr th {\n",
       "        vertical-align: top;\n",
       "    }\n",
       "\n",
       "    .dataframe thead th {\n",
       "        text-align: right;\n",
       "    }\n",
       "</style>\n",
       "<table border=\"1\" class=\"dataframe\">\n",
       "  <thead>\n",
       "    <tr style=\"text-align: right;\">\n",
       "      <th></th>\n",
       "      <th>Total Nacional</th>\n",
       "      <th>CCAA</th>\n",
       "      <th>Tipo de equipamiento</th>\n",
       "      <th>Total</th>\n",
       "    </tr>\n",
       "  </thead>\n",
       "  <tbody>\n",
       "    <tr>\n",
       "      <th>180</th>\n",
       "      <td>Total Nacional</td>\n",
       "      <td>Ceuta</td>\n",
       "      <td>NaN</td>\n",
       "      <td>23356</td>\n",
       "    </tr>\n",
       "    <tr>\n",
       "      <th>46</th>\n",
       "      <td>Total Nacional</td>\n",
       "      <td>Baleares</td>\n",
       "      <td>Viviendas con conexión de banda ancha fija</td>\n",
       "      <td>87,5</td>\n",
       "    </tr>\n",
       "    <tr>\n",
       "      <th>47</th>\n",
       "      <td>Total Nacional</td>\n",
       "      <td>Baleares</td>\n",
       "      <td>Viviendas con conexión solo a través de banda ...</td>\n",
       "      <td>10,2</td>\n",
       "    </tr>\n",
       "    <tr>\n",
       "      <th>66</th>\n",
       "      <td>Total Nacional</td>\n",
       "      <td>Cantabria</td>\n",
       "      <td>Viviendas con conexión de banda ancha fija</td>\n",
       "      <td>80,9</td>\n",
       "    </tr>\n",
       "    <tr>\n",
       "      <th>42</th>\n",
       "      <td>Total Nacional</td>\n",
       "      <td>Baleares</td>\n",
       "      <td>Ordenadores de sobremesa o portátil (no incluy...</td>\n",
       "      <td>79,9</td>\n",
       "    </tr>\n",
       "    <tr>\n",
       "      <th>18</th>\n",
       "      <td>Total Nacional</td>\n",
       "      <td>Andalucía</td>\n",
       "      <td>Viviendas con teléfono fijo</td>\n",
       "      <td>45,9</td>\n",
       "    </tr>\n",
       "    <tr>\n",
       "      <th>167</th>\n",
       "      <td>Total Nacional</td>\n",
       "      <td>País Vasco</td>\n",
       "      <td>Viviendas con conexión solo a través de banda ...</td>\n",
       "      <td>11,2</td>\n",
       "    </tr>\n",
       "    <tr>\n",
       "      <th>107</th>\n",
       "      <td>Total Nacional</td>\n",
       "      <td>Valencia</td>\n",
       "      <td>Viviendas con conexión solo a través de banda ...</td>\n",
       "      <td>11,7</td>\n",
       "    </tr>\n",
       "    <tr>\n",
       "      <th>36</th>\n",
       "      <td>Total Nacional</td>\n",
       "      <td>Asturias</td>\n",
       "      <td>Viviendas con conexión de banda ancha fija</td>\n",
       "      <td>79,5</td>\n",
       "    </tr>\n",
       "    <tr>\n",
       "      <th>0</th>\n",
       "      <td>Total Nacional</td>\n",
       "      <td>NaN</td>\n",
       "      <td>NaN</td>\n",
       "      <td>17179652</td>\n",
       "    </tr>\n",
       "  </tbody>\n",
       "</table>\n",
       "</div>"
      ],
      "text/plain": [
       "     Total Nacional        CCAA  \\\n",
       "180  Total Nacional       Ceuta   \n",
       "46   Total Nacional    Baleares   \n",
       "47   Total Nacional    Baleares   \n",
       "66   Total Nacional   Cantabria   \n",
       "42   Total Nacional    Baleares   \n",
       "18   Total Nacional   Andalucía   \n",
       "167  Total Nacional  País Vasco   \n",
       "107  Total Nacional    Valencia   \n",
       "36   Total Nacional    Asturias   \n",
       "0    Total Nacional         NaN   \n",
       "\n",
       "                                  Tipo de equipamiento     Total  \n",
       "180                                                NaN     23356  \n",
       "46          Viviendas con conexión de banda ancha fija      87,5  \n",
       "47   Viviendas con conexión solo a través de banda ...      10,2  \n",
       "66          Viviendas con conexión de banda ancha fija      80,9  \n",
       "42   Ordenadores de sobremesa o portátil (no incluy...      79,9  \n",
       "18                         Viviendas con teléfono fijo      45,9  \n",
       "167  Viviendas con conexión solo a través de banda ...      11,2  \n",
       "107  Viviendas con conexión solo a través de banda ...      11,7  \n",
       "36          Viviendas con conexión de banda ancha fija      79,5  \n",
       "0                                                  NaN  17179652  "
      ]
     },
     "execution_count": 130,
     "metadata": {},
     "output_type": "execute_result"
    }
   ],
   "source": [
    "df_equipamiento.sample(10)"
   ]
  },
  {
   "cell_type": "code",
   "execution_count": 131,
   "id": "7c24f257",
   "metadata": {},
   "outputs": [],
   "source": [
    "df_equipamiento.to_csv('files/equipamiento_viviendas.csv', index=False)"
   ]
  },
  {
   "cell_type": "code",
   "execution_count": 155,
   "id": "d8ba2ebe",
   "metadata": {},
   "outputs": [],
   "source": [
    "df_tasa_paro = pd.read_csv('../files/inferencias/tasa-paro-gral.csv',sep=';', encoding='latin1')"
   ]
  },
  {
   "cell_type": "code",
   "execution_count": 156,
   "id": "28c68d5e",
   "metadata": {},
   "outputs": [
    {
     "data": {
      "text/html": [
       "<div>\n",
       "<style scoped>\n",
       "    .dataframe tbody tr th:only-of-type {\n",
       "        vertical-align: middle;\n",
       "    }\n",
       "\n",
       "    .dataframe tbody tr th {\n",
       "        vertical-align: top;\n",
       "    }\n",
       "\n",
       "    .dataframe thead th {\n",
       "        text-align: right;\n",
       "    }\n",
       "</style>\n",
       "<table border=\"1\" class=\"dataframe\">\n",
       "  <thead>\n",
       "    <tr style=\"text-align: right;\">\n",
       "      <th></th>\n",
       "      <th>ï»¿Sexo</th>\n",
       "      <th>Comunidades y Ciudades AutÃ³nomas</th>\n",
       "      <th>Edad</th>\n",
       "      <th>Periodo</th>\n",
       "      <th>Tasa paro</th>\n",
       "    </tr>\n",
       "  </thead>\n",
       "  <tbody>\n",
       "    <tr>\n",
       "      <th>0</th>\n",
       "      <td>Ambos sexos</td>\n",
       "      <td>Total Nacional</td>\n",
       "      <td>Total</td>\n",
       "      <td>2024T4</td>\n",
       "      <td>10,61</td>\n",
       "    </tr>\n",
       "    <tr>\n",
       "      <th>1</th>\n",
       "      <td>Ambos sexos</td>\n",
       "      <td>Total Nacional</td>\n",
       "      <td>Total</td>\n",
       "      <td>2024T3</td>\n",
       "      <td>11,21</td>\n",
       "    </tr>\n",
       "    <tr>\n",
       "      <th>2</th>\n",
       "      <td>Ambos sexos</td>\n",
       "      <td>Total Nacional</td>\n",
       "      <td>Total</td>\n",
       "      <td>2024T2</td>\n",
       "      <td>11,27</td>\n",
       "    </tr>\n",
       "    <tr>\n",
       "      <th>3</th>\n",
       "      <td>Ambos sexos</td>\n",
       "      <td>Total Nacional</td>\n",
       "      <td>Total</td>\n",
       "      <td>2024T1</td>\n",
       "      <td>12,29</td>\n",
       "    </tr>\n",
       "    <tr>\n",
       "      <th>4</th>\n",
       "      <td>Ambos sexos</td>\n",
       "      <td>Total Nacional</td>\n",
       "      <td>Total</td>\n",
       "      <td>2023T4</td>\n",
       "      <td>11,8</td>\n",
       "    </tr>\n",
       "  </tbody>\n",
       "</table>\n",
       "</div>"
      ],
      "text/plain": [
       "       ï»¿Sexo Comunidades y Ciudades AutÃ³nomas   Edad Periodo Tasa paro\n",
       "0  Ambos sexos                    Total Nacional  Total  2024T4     10,61\n",
       "1  Ambos sexos                    Total Nacional  Total  2024T3     11,21\n",
       "2  Ambos sexos                    Total Nacional  Total  2024T2     11,27\n",
       "3  Ambos sexos                    Total Nacional  Total  2024T1     12,29\n",
       "4  Ambos sexos                    Total Nacional  Total  2023T4      11,8"
      ]
     },
     "execution_count": 156,
     "metadata": {},
     "output_type": "execute_result"
    }
   ],
   "source": [
    "df_tasa_paro.head()"
   ]
  },
  {
   "cell_type": "code",
   "execution_count": 157,
   "id": "22396b3e",
   "metadata": {},
   "outputs": [],
   "source": [
    "df_tasa_paro = df_tasa_paro.rename(columns = {'ï»¿Sexo':'sexo', 'Comunidades y Ciudades AutÃ³nomas':'CCAA',\n",
    "                            'Edad':'edad',\n",
    "                            'Periodo':'periodo', 'Tasa paro':'tasa_paro'})"
   ]
  },
  {
   "cell_type": "code",
   "execution_count": 158,
   "id": "ba30ca67",
   "metadata": {},
   "outputs": [
    {
     "data": {
      "text/plain": [
       "Index(['sexo', 'CCAA', 'edad', 'periodo', 'tasa_paro'], dtype='object')"
      ]
     },
     "execution_count": 158,
     "metadata": {},
     "output_type": "execute_result"
    }
   ],
   "source": [
    "df_tasa_paro.columns"
   ]
  },
  {
   "cell_type": "code",
   "execution_count": 159,
   "id": "7c009687",
   "metadata": {},
   "outputs": [
    {
     "data": {
      "text/plain": [
       "array(['Total Nacional', '01 AndalucÃ\\xada', '02 AragÃ³n',\n",
       "       '03 Asturias, Principado de', '04 Balears, Illes', '05 Canarias',\n",
       "       '06 Cantabria', '07 Castilla y LeÃ³n', '08 Castilla - La Mancha',\n",
       "       '09 CataluÃ±a', '10 Comunitat Valenciana', '11 Extremadura',\n",
       "       '12 Galicia', '13 Madrid, Comunidad de', '14 Murcia, RegiÃ³n de',\n",
       "       '15 Navarra, Comunidad Foral de', '16 PaÃ\\xads Vasco',\n",
       "       '17 Rioja, La', '18 Ceuta', '19 Melilla'], dtype=object)"
      ]
     },
     "execution_count": 159,
     "metadata": {},
     "output_type": "execute_result"
    }
   ],
   "source": [
    "df_tasa_paro['CCAA'].unique()"
   ]
  },
  {
   "cell_type": "code",
   "execution_count": 160,
   "id": "bab705d0",
   "metadata": {},
   "outputs": [],
   "source": [
    "df_tasa_paro['CCAA'] = df_tasa_paro['CCAA'].str.replace(r'^\\d+\\s+', '', regex=True)"
   ]
  },
  {
   "cell_type": "code",
   "execution_count": 161,
   "id": "b413762d",
   "metadata": {},
   "outputs": [
    {
     "data": {
      "text/plain": [
       "array(['Total Nacional', 'AndalucÃ\\xada', 'AragÃ³n',\n",
       "       'Asturias, Principado de', 'Balears, Illes', 'Canarias',\n",
       "       'Cantabria', 'Castilla y LeÃ³n', 'Castilla - La Mancha',\n",
       "       'CataluÃ±a', 'Comunitat Valenciana', 'Extremadura', 'Galicia',\n",
       "       'Madrid, Comunidad de', 'Murcia, RegiÃ³n de',\n",
       "       'Navarra, Comunidad Foral de', 'PaÃ\\xads Vasco', 'Rioja, La',\n",
       "       'Ceuta', 'Melilla'], dtype=object)"
      ]
     },
     "execution_count": 161,
     "metadata": {},
     "output_type": "execute_result"
    }
   ],
   "source": [
    "df_tasa_paro['CCAA'].unique()"
   ]
  },
  {
   "cell_type": "code",
   "execution_count": 162,
   "id": "5987678e",
   "metadata": {},
   "outputs": [],
   "source": [
    "mapeo_ccaa = {'Total Nacional':'España',\n",
    "    'AndalucÃ\\xada': 'Andalucía',\n",
    "    'AragÃ³n': 'Aragón',\n",
    "    'Asturias, Principado de': 'Asturias',\n",
    "    'Balears, Illes': 'Baleares',\n",
    "    'Canarias': 'Canarias',\n",
    "    'Cantabria': 'Cantabria',\n",
    "    'Castilla y LeÃ³n': 'Castilla y León',\n",
    "    'Castilla - La Mancha': 'Castilla-La Mancha',\n",
    "    'CataluÃ±a': 'Cataluña',\n",
    "    'Comunitat Valenciana': 'Valencia',\n",
    "    'Extremadura': 'Extremadura',\n",
    "    'Galicia': 'Galicia',\n",
    "    'Madrid, Comunidad de': 'Madrid',\n",
    "    'Murcia, RegiÃ³n de': 'Murcia',\n",
    "    'Navarra, Comunidad Foral de': 'Navarra',\n",
    "    'PaÃ\\xads Vasco': 'País Vasco',\n",
    "    'Rioja, La': 'La Rioja',\n",
    "    'Ceuta': 'Ceuta',\n",
    "    'Melilla': 'Melilla',\n",
    "}\n",
    "\n",
    "df_tasa_paro['CCAA'] = df_tasa_paro['CCAA'].map(mapeo_ccaa)"
   ]
  },
  {
   "cell_type": "code",
   "execution_count": 163,
   "id": "f12dd433",
   "metadata": {},
   "outputs": [
    {
     "data": {
      "text/plain": [
       "20"
      ]
     },
     "execution_count": 163,
     "metadata": {},
     "output_type": "execute_result"
    }
   ],
   "source": [
    "len(df_tasa_paro['CCAA'].unique())"
   ]
  },
  {
   "cell_type": "code",
   "execution_count": 164,
   "id": "5d45ff40",
   "metadata": {},
   "outputs": [
    {
     "data": {
      "text/plain": [
       "Index(['sexo', 'CCAA', 'edad', 'periodo', 'tasa_paro'], dtype='object')"
      ]
     },
     "execution_count": 164,
     "metadata": {},
     "output_type": "execute_result"
    }
   ],
   "source": [
    "df_tasa_paro.columns"
   ]
  },
  {
   "cell_type": "code",
   "execution_count": 165,
   "id": "43b6cbb0",
   "metadata": {},
   "outputs": [
    {
     "data": {
      "text/plain": [
       "array(['Total', 'Menores de 25 aÃ±os', '25 y mÃ¡s aÃ±os',\n",
       "       'De 16 a 19 aÃ±os', 'De 20 a 24 aÃ±os', 'De 25 a 54 aÃ±os',\n",
       "       '55 y mÃ¡s aÃ±os'], dtype=object)"
      ]
     },
     "execution_count": 165,
     "metadata": {},
     "output_type": "execute_result"
    }
   ],
   "source": [
    "df_tasa_paro['edad'].unique()"
   ]
  },
  {
   "cell_type": "code",
   "execution_count": 166,
   "id": "dab8d66f",
   "metadata": {},
   "outputs": [],
   "source": [
    "mapeo_edades = {'Total': 'Total',\n",
    "    'Menores de 25 aÃ±os': 'Menores de 25 años',\n",
    "    '25 y mÃ¡s aÃ±os': '25 y más años',\n",
    "    'De 16 a 19 aÃ±os': 'De 16 a 19 años',\n",
    "    'De 20 a 24 aÃ±os': 'De 20 a 24 años',\n",
    "    'De 25 a 54 aÃ±os': 'De 25 a 54 años',\n",
    "    '55 y mÃ¡s aÃ±os': '55 y más años'\n",
    "}\n",
    "df_tasa_paro['edad'] = df_tasa_paro['edad'].map(mapeo_edades)"
   ]
  },
  {
   "cell_type": "code",
   "execution_count": 167,
   "id": "a22f0a03",
   "metadata": {},
   "outputs": [
    {
     "data": {
      "text/plain": [
       "array(['Total', 'Menores de 25 años', '25 y más años', 'De 16 a 19 años',\n",
       "       'De 20 a 24 años', 'De 25 a 54 años', '55 y más años'],\n",
       "      dtype=object)"
      ]
     },
     "execution_count": 167,
     "metadata": {},
     "output_type": "execute_result"
    }
   ],
   "source": [
    "df_tasa_paro['edad'].unique()"
   ]
  },
  {
   "cell_type": "code",
   "execution_count": 168,
   "id": "55e58be4",
   "metadata": {},
   "outputs": [
    {
     "data": {
      "text/plain": [
       "array(['2024T4', '2024T3', '2024T2', '2024T1', '2023T4', '2023T3',\n",
       "       '2023T2', '2023T1', '2022T4', '2022T3', '2022T2', '2022T1',\n",
       "       '2021T4', '2021T3', '2021T2', '2021T1', '2020T4', '2020T3',\n",
       "       '2020T2', '2020T1', '2019T4', '2019T3', '2019T2', '2019T1',\n",
       "       '2018T4', '2018T3', '2018T2', '2018T1', '2017T4', '2017T3',\n",
       "       '2017T2', '2017T1', '2016T4', '2016T3', '2016T2', '2016T1',\n",
       "       '2015T4', '2015T3', '2015T2', '2015T1', '2014T4', '2014T3',\n",
       "       '2014T2', '2014T1', '2013T4', '2013T3', '2013T2', '2013T1',\n",
       "       '2012T4', '2012T3', '2012T2', '2012T1', '2011T4', '2011T3',\n",
       "       '2011T2', '2011T1', '2010T4', '2010T3', '2010T2', '2010T1',\n",
       "       '2009T4', '2009T3', '2009T2', '2009T1', '2008T4', '2008T3',\n",
       "       '2008T2', '2008T1', '2007T4', '2007T3', '2007T2', '2007T1',\n",
       "       '2006T4', '2006T3', '2006T2', '2006T1', '2005T4', '2005T3',\n",
       "       '2005T2', '2005T1', '2004T4', '2004T3', '2004T2', '2004T1',\n",
       "       '2003T4', '2003T3', '2003T2', '2003T1', '2002T4', '2002T3',\n",
       "       '2002T2', '2002T1'], dtype=object)"
      ]
     },
     "execution_count": 168,
     "metadata": {},
     "output_type": "execute_result"
    }
   ],
   "source": [
    "df_tasa_paro['periodo'].unique()"
   ]
  },
  {
   "cell_type": "code",
   "execution_count": 169,
   "id": "09142df8",
   "metadata": {},
   "outputs": [
    {
     "data": {
      "text/plain": [
       "array(['Ambos sexos', 'Hombres', 'Mujeres'], dtype=object)"
      ]
     },
     "execution_count": 169,
     "metadata": {},
     "output_type": "execute_result"
    }
   ],
   "source": [
    "df_tasa_paro['sexo'].unique()"
   ]
  },
  {
   "cell_type": "code",
   "execution_count": 170,
   "id": "cb1e14a3",
   "metadata": {},
   "outputs": [],
   "source": [
    "df_tasa_paro.to_csv('files/tasa_paro_gral.csv', index=False)"
   ]
  }
 ],
 "metadata": {
  "kernelspec": {
   "display_name": "promo49",
   "language": "python",
   "name": "python3"
  },
  "language_info": {
   "codemirror_mode": {
    "name": "ipython",
    "version": 3
   },
   "file_extension": ".py",
   "mimetype": "text/x-python",
   "name": "python",
   "nbconvert_exporter": "python",
   "pygments_lexer": "ipython3",
   "version": "3.11.11"
  }
 },
 "nbformat": 4,
 "nbformat_minor": 5
}
