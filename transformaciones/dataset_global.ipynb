{
 "cells": [
  {
   "cell_type": "code",
   "execution_count": 103,
   "id": "27272081",
   "metadata": {},
   "outputs": [],
   "source": [
    "import pandas as pd\n",
    "import numpy as np"
   ]
  },
  {
   "cell_type": "code",
   "execution_count": 104,
   "id": "6671d215",
   "metadata": {},
   "outputs": [],
   "source": [
    "df_educacion = pd.read_csv('../files/csv/inferencias/educacion_TIC.csv', sep=';', encoding='latin1')"
   ]
  },
  {
   "cell_type": "code",
   "execution_count": 105,
   "id": "e894b711",
   "metadata": {},
   "outputs": [
    {
     "data": {
      "text/html": [
       "<div>\n",
       "<style scoped>\n",
       "    .dataframe tbody tr th:only-of-type {\n",
       "        vertical-align: middle;\n",
       "    }\n",
       "\n",
       "    .dataframe tbody tr th {\n",
       "        vertical-align: top;\n",
       "    }\n",
       "\n",
       "    .dataframe thead th {\n",
       "        text-align: right;\n",
       "    }\n",
       "</style>\n",
       "<table border=\"1\" class=\"dataframe\">\n",
       "  <thead>\n",
       "    <tr style=\"text-align: right;\">\n",
       "      <th></th>\n",
       "      <th>Sexo</th>\n",
       "      <th>Caracterï¿½sticas socioeconï¿½micas</th>\n",
       "      <th>Tipo de uso de TIC</th>\n",
       "      <th>Total</th>\n",
       "    </tr>\n",
       "  </thead>\n",
       "  <tbody>\n",
       "    <tr>\n",
       "      <th>0</th>\n",
       "      <td>Ambos sexos</td>\n",
       "      <td>Total Personas</td>\n",
       "      <td>Total Personas</td>\n",
       "      <td>36663412</td>\n",
       "    </tr>\n",
       "    <tr>\n",
       "      <th>1</th>\n",
       "      <td>Ambos sexos</td>\n",
       "      <td>Total Personas</td>\n",
       "      <td>Personas que han utilizado el telï¿½fono mï¿½vil</td>\n",
       "      <td>99,1</td>\n",
       "    </tr>\n",
       "    <tr>\n",
       "      <th>2</th>\n",
       "      <td>Ambos sexos</td>\n",
       "      <td>Total Personas</td>\n",
       "      <td>Personas que han utilizado Internet en los ï¿½...</td>\n",
       "      <td>95,8</td>\n",
       "    </tr>\n",
       "    <tr>\n",
       "      <th>3</th>\n",
       "      <td>Ambos sexos</td>\n",
       "      <td>Total Personas</td>\n",
       "      <td>Personas que han utilizado Internet al menos u...</td>\n",
       "      <td>95</td>\n",
       "    </tr>\n",
       "    <tr>\n",
       "      <th>4</th>\n",
       "      <td>Ambos sexos</td>\n",
       "      <td>Total Personas</td>\n",
       "      <td>Personas que han utilizado Internet diariament...</td>\n",
       "      <td>91,5</td>\n",
       "    </tr>\n",
       "  </tbody>\n",
       "</table>\n",
       "</div>"
      ],
      "text/plain": [
       "          Sexo Caracterï¿½sticas socioeconï¿½micas  \\\n",
       "0  Ambos sexos                      Total Personas   \n",
       "1  Ambos sexos                      Total Personas   \n",
       "2  Ambos sexos                      Total Personas   \n",
       "3  Ambos sexos                      Total Personas   \n",
       "4  Ambos sexos                      Total Personas   \n",
       "\n",
       "                                  Tipo de uso de TIC     Total  \n",
       "0                                     Total Personas  36663412  \n",
       "1   Personas que han utilizado el telï¿½fono mï¿½vil      99,1  \n",
       "2  Personas que han utilizado Internet en los ï¿½...      95,8  \n",
       "3  Personas que han utilizado Internet al menos u...        95  \n",
       "4  Personas que han utilizado Internet diariament...      91,5  "
      ]
     },
     "execution_count": 105,
     "metadata": {},
     "output_type": "execute_result"
    }
   ],
   "source": [
    "df_educacion.head()"
   ]
  },
  {
   "cell_type": "code",
   "execution_count": 106,
   "id": "1a308a0f",
   "metadata": {},
   "outputs": [
    {
     "data": {
      "text/plain": [
       "Index(['Sexo', 'Caracterï¿½sticas socioeconï¿½micas', 'Tipo de uso de TIC',\n",
       "       'Total'],\n",
       "      dtype='object')"
      ]
     },
     "execution_count": 106,
     "metadata": {},
     "output_type": "execute_result"
    }
   ],
   "source": [
    "df_educacion. columns"
   ]
  },
  {
   "cell_type": "code",
   "execution_count": 107,
   "id": "111a85e4",
   "metadata": {},
   "outputs": [],
   "source": [
    "df_educacion.rename(columns={\n",
    "    'Caracterï¿½sticas socioeconï¿½micas': 'caracts_socioecon',\n",
    "    'Tipo de uso de TIC': 'uso_TIC',\n",
    "    'Sexo':'sexo',\n",
    "    'Total':'total'\n",
    "}, inplace=True)"
   ]
  },
  {
   "cell_type": "code",
   "execution_count": 108,
   "id": "2d47a235",
   "metadata": {},
   "outputs": [
    {
     "data": {
      "text/plain": [
       "Index(['sexo', 'caracts_socioecon', 'uso_TIC', 'total'], dtype='object')"
      ]
     },
     "execution_count": 108,
     "metadata": {},
     "output_type": "execute_result"
    }
   ],
   "source": [
    "df_educacion.columns"
   ]
  },
  {
   "cell_type": "code",
   "execution_count": 109,
   "id": "1473cfd0",
   "metadata": {},
   "outputs": [
    {
     "data": {
      "text/plain": [
       "sexo\n",
       "Ambos sexos     198\n",
       "Sexo: Hombre    198\n",
       "Sexo: Mujer     198\n",
       "Name: count, dtype: int64"
      ]
     },
     "execution_count": 109,
     "metadata": {},
     "output_type": "execute_result"
    }
   ],
   "source": [
    "df_educacion['sexo'].value_counts()"
   ]
  },
  {
   "cell_type": "code",
   "execution_count": 129,
   "id": "667f4d88",
   "metadata": {},
   "outputs": [
    {
     "data": {
      "text/plain": [
       "Series([], Name: count, dtype: int64)"
      ]
     },
     "execution_count": 129,
     "metadata": {},
     "output_type": "execute_result"
    }
   ],
   "source": [
    "df_educacion['sexo'].value_counts()"
   ]
  },
  {
   "cell_type": "code",
   "execution_count": 130,
   "id": "45c4b55a",
   "metadata": {},
   "outputs": [],
   "source": [
    "map = {'Sexo: Mujer': 'mujer',\n",
    "        'Sexo: Hombre': 'hombre'}\n",
    "\n",
    "df_educacion['sexo'] = df_educacion['sexo'].map(map)"
   ]
  },
  {
   "cell_type": "code",
   "execution_count": 131,
   "id": "022c4c19",
   "metadata": {},
   "outputs": [
    {
     "data": {
      "text/plain": [
       "Series([], Name: count, dtype: int64)"
      ]
     },
     "execution_count": 131,
     "metadata": {},
     "output_type": "execute_result"
    }
   ],
   "source": [
    "df_educacion['sexo'].value_counts()"
   ]
  },
  {
   "cell_type": "code",
   "execution_count": 132,
   "id": "c77be236",
   "metadata": {},
   "outputs": [
    {
     "data": {
      "text/plain": [
       "Series([], Name: count, dtype: int64)"
      ]
     },
     "execution_count": 132,
     "metadata": {},
     "output_type": "execute_result"
    }
   ],
   "source": [
    "df_educacion['uso_TIC'].value_counts()"
   ]
  },
  {
   "cell_type": "code",
   "execution_count": 133,
   "id": "71db990e",
   "metadata": {},
   "outputs": [],
   "source": [
    "df_educacion['uso_TIC'] = df_educacion['uso_TIC'].str.lower()"
   ]
  },
  {
   "cell_type": "code",
   "execution_count": 134,
   "id": "d5d3c9fa",
   "metadata": {},
   "outputs": [
    {
     "data": {
      "text/plain": [
       "Series([], Name: count, dtype: int64)"
      ]
     },
     "execution_count": 134,
     "metadata": {},
     "output_type": "execute_result"
    }
   ],
   "source": [
    "df_educacion['uso_TIC'].value_counts()"
   ]
  },
  {
   "cell_type": "code",
   "execution_count": 135,
   "id": "c0457ba6",
   "metadata": {},
   "outputs": [],
   "source": [
    "map = {'personas que han utilizado el telï¿½fono mï¿½vil': 'telef_mov', \n",
    "    'personas que han utilizado internet en los ï¿½ltimos 3 meses':'uso_internet_ultimos3meses',\n",
    "    'personas que han utilizado internet al menos una vez por semana en los ï¿½ltimos 3 meses':'uso_internet_semanal',\n",
    "    'personas que han utilizado internet diariamente (al menos 5 dï¿½as a la semana)':'uso_internet_diario',\n",
    "    'personas que han comprado a travï¿½s de internet en los ï¿½ltimos 3 meses':'compra_online_ultimos3meses'}\n",
    "\n",
    "df_educacion['uso_TIC']= df_educacion['uso_TIC'].map(map)"
   ]
  },
  {
   "cell_type": "code",
   "execution_count": 136,
   "id": "edc0d548",
   "metadata": {},
   "outputs": [
    {
     "data": {
      "text/plain": [
       "Series([], Name: count, dtype: int64)"
      ]
     },
     "execution_count": 136,
     "metadata": {},
     "output_type": "execute_result"
    }
   ],
   "source": [
    "df_educacion['uso_TIC'].value_counts()"
   ]
  },
  {
   "cell_type": "code",
   "execution_count": null,
   "id": "859851ae",
   "metadata": {},
   "outputs": [],
   "source": [
    "df_educacion['caracts_socioecon'].value_counts()"
   ]
  },
  {
   "cell_type": "code",
   "execution_count": 139,
   "id": "a79d600d",
   "metadata": {},
   "outputs": [],
   "source": [
    "# Reconvertimos desde latin1 a utf-8\n",
    "df_educacion['caracts_socioecon'] = df_educacion['caracts_socioecon'].apply(lambda x: x.encode('latin1').decode('utf-8'))"
   ]
  },
  {
   "cell_type": "code",
   "execution_count": 142,
   "id": "4c80305b",
   "metadata": {},
   "outputs": [
    {
     "data": {
      "text/plain": [
       "caracts_socioecon\n",
       "Total Personas                                                                                       18\n",
       "Situaci�n Profesional (en trabajo principal): Trabajador por cuenta ajena con contrato temporal      18\n",
       "Ingresos mensuales netos del hogar: 3.900 o m�s euros                                                18\n",
       "Ingresos mensuales netos del hogar: De 2.700 a menos de 3.900 euros                                  18\n",
       "Ingresos mensuales netos del hogar: De 1.900 a menos de 2.700 euros                                  18\n",
       "Ingresos mensuales netos del hogar: De 1.200 a menos de 1.900 euros                                  18\n",
       "Ingresos mensuales netos del hogar: Menos de 1.200 euros                                             18\n",
       "Ocupaci�n principal: Otros trabajadores                                                              18\n",
       "Ocupaci�n principal: Trabajadores TIC                                                                18\n",
       "Ocupaci�n principal: No Manual                                                                       18\n",
       "Ocupaci�n principal: Manual                                                                          18\n",
       "Jornada laboral (en trabajo principal) : A tiempo parcial                                            18\n",
       "Jornada laboral (en trabajo principal) : A tiempo completo                                           18\n",
       "Situaci�n Profesional (en trabajo principal):  Ayuda familiar (sin sueldo estipulado)                18\n",
       "Situaci�n Profesional (en trabajo principal): Trabajador por cuenta propia sin empleados             18\n",
       "Situaci�n Profesional (en trabajo principal): Trabajador por cuenta propia  con empleados            18\n",
       "Situaci�n Profesional (en trabajo principal): Trabajador por cuenta ajena con contrato indefinido    18\n",
       "Estudios terminados: Menos que primaria                                                              18\n",
       "Situaci�n laboral: Otra situaci�n laboral                                                            18\n",
       "Situaci�n laboral: Inactivos: Pensionistas                                                           18\n",
       "Situaci�n laboral: Inactivos: Labores del hogar                                                      18\n",
       "Situaci�n laboral: Inactivos: Estudiantes                                                            18\n",
       "Situaci�n laboral: Activos parados                                                                   18\n",
       "Situaci�n laboral: Activos ocupados                                                                  18\n",
       "Estudios terminados: Otros                                                                           18\n",
       "Estudios terminados: Doctorado universitario                                                         18\n",
       "Estudios terminados: Licenciatura universitaria, m�ster y equivalentes                               18\n",
       "Estudios terminados: Diplomatura universitaria y equivalentes                                        18\n",
       "Estudios terminados: Formaci�n Profesional de Grado Superior                                         18\n",
       "Estudios terminados: Segunda etapa de Educaci�n Secundaria                                           18\n",
       "Estudios terminados: Primera etapa de Educaci�n Secundaria                                           18\n",
       "Estudios terminados: Educaci�n Primaria                                                              18\n",
       "Ingresos mensuales netos del hogar: NS/NR                                                            18\n",
       "Name: count, dtype: int64"
      ]
     },
     "execution_count": 142,
     "metadata": {},
     "output_type": "execute_result"
    }
   ],
   "source": [
    "df_educacion['caracts_socioecon'].value_counts()"
   ]
  },
  {
   "cell_type": "code",
   "execution_count": 145,
   "id": "95daf6b0",
   "metadata": {},
   "outputs": [],
   "source": [
    "df_equipamiento = pd.read_csv('../files/csv/inferencias/equipamiento viviendas.csv',sep=';', encoding='latin1')"
   ]
  },
  {
   "cell_type": "code",
   "execution_count": 146,
   "id": "db4a39d1",
   "metadata": {},
   "outputs": [
    {
     "data": {
      "text/html": [
       "<div>\n",
       "<style scoped>\n",
       "    .dataframe tbody tr th:only-of-type {\n",
       "        vertical-align: middle;\n",
       "    }\n",
       "\n",
       "    .dataframe tbody tr th {\n",
       "        vertical-align: top;\n",
       "    }\n",
       "\n",
       "    .dataframe thead th {\n",
       "        text-align: right;\n",
       "    }\n",
       "</style>\n",
       "<table border=\"1\" class=\"dataframe\">\n",
       "  <thead>\n",
       "    <tr style=\"text-align: right;\">\n",
       "      <th></th>\n",
       "      <th>Total Nacional</th>\n",
       "      <th>Comunidades y Ciudades Autï¿½nomas</th>\n",
       "      <th>Tipo de equipamiento</th>\n",
       "      <th>Total</th>\n",
       "    </tr>\n",
       "  </thead>\n",
       "  <tbody>\n",
       "    <tr>\n",
       "      <th>38</th>\n",
       "      <td>Total Nacional</td>\n",
       "      <td>03 Asturias, Principado de</td>\n",
       "      <td>Viviendas con telï¿½fono fijo</td>\n",
       "      <td>48,2</td>\n",
       "    </tr>\n",
       "    <tr>\n",
       "      <th>195</th>\n",
       "      <td>Total Nacional</td>\n",
       "      <td>19 Melilla</td>\n",
       "      <td>Viviendas con conexiï¿½n de Banda Ancha</td>\n",
       "      <td>96,7</td>\n",
       "    </tr>\n",
       "    <tr>\n",
       "      <th>91</th>\n",
       "      <td>Total Nacional</td>\n",
       "      <td>09 Cataluï¿½a</td>\n",
       "      <td>Ordenadores de cualquier tipo: incluidos netbo...</td>\n",
       "      <td>86,1</td>\n",
       "    </tr>\n",
       "    <tr>\n",
       "      <th>61</th>\n",
       "      <td>Total Nacional</td>\n",
       "      <td>06 Cantabria</td>\n",
       "      <td>Ordenadores de cualquier tipo: incluidos netbo...</td>\n",
       "      <td>81,5</td>\n",
       "    </tr>\n",
       "    <tr>\n",
       "      <th>192</th>\n",
       "      <td>Total Nacional</td>\n",
       "      <td>19 Melilla</td>\n",
       "      <td>Ordenadores de sobremesa o portï¿½til (no incl...</td>\n",
       "      <td>79,3</td>\n",
       "    </tr>\n",
       "    <tr>\n",
       "      <th>156</th>\n",
       "      <td>Total Nacional</td>\n",
       "      <td>15 Navarra, Comunidad Foral de</td>\n",
       "      <td>Viviendas con conexiï¿½n de banda ancha fija</td>\n",
       "      <td>85,5</td>\n",
       "    </tr>\n",
       "    <tr>\n",
       "      <th>5</th>\n",
       "      <td>Total Nacional</td>\n",
       "      <td>NaN</td>\n",
       "      <td>Viviendas con conexiï¿½n de Banda Ancha</td>\n",
       "      <td>96,8</td>\n",
       "    </tr>\n",
       "    <tr>\n",
       "      <th>67</th>\n",
       "      <td>Total Nacional</td>\n",
       "      <td>06 Cantabria</td>\n",
       "      <td>Viviendas con conexiï¿½n solo a travï¿½s de ba...</td>\n",
       "      <td>15,1</td>\n",
       "    </tr>\n",
       "    <tr>\n",
       "      <th>94</th>\n",
       "      <td>Total Nacional</td>\n",
       "      <td>09 Cataluï¿½a</td>\n",
       "      <td>Viviendas que disponen de acceso a Internet</td>\n",
       "      <td>97,7</td>\n",
       "    </tr>\n",
       "    <tr>\n",
       "      <th>56</th>\n",
       "      <td>Total Nacional</td>\n",
       "      <td>05 Canarias</td>\n",
       "      <td>Viviendas con conexiï¿½n de banda ancha fija</td>\n",
       "      <td>83,8</td>\n",
       "    </tr>\n",
       "  </tbody>\n",
       "</table>\n",
       "</div>"
      ],
      "text/plain": [
       "     Total Nacional Comunidades y Ciudades Autï¿½nomas  \\\n",
       "38   Total Nacional         03 Asturias, Principado de   \n",
       "195  Total Nacional                         19 Melilla   \n",
       "91   Total Nacional                      09 Cataluï¿½a   \n",
       "61   Total Nacional                       06 Cantabria   \n",
       "192  Total Nacional                         19 Melilla   \n",
       "156  Total Nacional     15 Navarra, Comunidad Foral de   \n",
       "5    Total Nacional                                NaN   \n",
       "67   Total Nacional                       06 Cantabria   \n",
       "94   Total Nacional                      09 Cataluï¿½a   \n",
       "56   Total Nacional                        05 Canarias   \n",
       "\n",
       "                                  Tipo de equipamiento Total  \n",
       "38                       Viviendas con telï¿½fono fijo  48,2  \n",
       "195            Viviendas con conexiï¿½n de Banda Ancha  96,7  \n",
       "91   Ordenadores de cualquier tipo: incluidos netbo...  86,1  \n",
       "61   Ordenadores de cualquier tipo: incluidos netbo...  81,5  \n",
       "192  Ordenadores de sobremesa o portï¿½til (no incl...  79,3  \n",
       "156       Viviendas con conexiï¿½n de banda ancha fija  85,5  \n",
       "5              Viviendas con conexiï¿½n de Banda Ancha  96,8  \n",
       "67   Viviendas con conexiï¿½n solo a travï¿½s de ba...  15,1  \n",
       "94         Viviendas que disponen de acceso a Internet  97,7  \n",
       "56        Viviendas con conexiï¿½n de banda ancha fija  83,8  "
      ]
     },
     "execution_count": 146,
     "metadata": {},
     "output_type": "execute_result"
    }
   ],
   "source": [
    "df_equipamiento.sample(10)"
   ]
  },
  {
   "cell_type": "code",
   "execution_count": 150,
   "id": "d8ba2ebe",
   "metadata": {},
   "outputs": [],
   "source": [
    "df_tasa_paro = pd.read_csv('../files/csv/inferencias/tasa-paro-gral.csv',sep=';', encoding='latin1')"
   ]
  },
  {
   "cell_type": "code",
   "execution_count": 151,
   "id": "28c68d5e",
   "metadata": {},
   "outputs": [
    {
     "data": {
      "text/html": [
       "<div>\n",
       "<style scoped>\n",
       "    .dataframe tbody tr th:only-of-type {\n",
       "        vertical-align: middle;\n",
       "    }\n",
       "\n",
       "    .dataframe tbody tr th {\n",
       "        vertical-align: top;\n",
       "    }\n",
       "\n",
       "    .dataframe thead th {\n",
       "        text-align: right;\n",
       "    }\n",
       "</style>\n",
       "<table border=\"1\" class=\"dataframe\">\n",
       "  <thead>\n",
       "    <tr style=\"text-align: right;\">\n",
       "      <th></th>\n",
       "      <th>ï»¿Sexo</th>\n",
       "      <th>Comunidades y Ciudades AutÃ³nomas</th>\n",
       "      <th>Edad</th>\n",
       "      <th>Periodo</th>\n",
       "      <th>Tasa paro</th>\n",
       "    </tr>\n",
       "  </thead>\n",
       "  <tbody>\n",
       "    <tr>\n",
       "      <th>0</th>\n",
       "      <td>Ambos sexos</td>\n",
       "      <td>Total Nacional</td>\n",
       "      <td>Total</td>\n",
       "      <td>2024T4</td>\n",
       "      <td>10,61</td>\n",
       "    </tr>\n",
       "    <tr>\n",
       "      <th>1</th>\n",
       "      <td>Ambos sexos</td>\n",
       "      <td>Total Nacional</td>\n",
       "      <td>Total</td>\n",
       "      <td>2024T3</td>\n",
       "      <td>11,21</td>\n",
       "    </tr>\n",
       "    <tr>\n",
       "      <th>2</th>\n",
       "      <td>Ambos sexos</td>\n",
       "      <td>Total Nacional</td>\n",
       "      <td>Total</td>\n",
       "      <td>2024T2</td>\n",
       "      <td>11,27</td>\n",
       "    </tr>\n",
       "    <tr>\n",
       "      <th>3</th>\n",
       "      <td>Ambos sexos</td>\n",
       "      <td>Total Nacional</td>\n",
       "      <td>Total</td>\n",
       "      <td>2024T1</td>\n",
       "      <td>12,29</td>\n",
       "    </tr>\n",
       "    <tr>\n",
       "      <th>4</th>\n",
       "      <td>Ambos sexos</td>\n",
       "      <td>Total Nacional</td>\n",
       "      <td>Total</td>\n",
       "      <td>2023T4</td>\n",
       "      <td>11,8</td>\n",
       "    </tr>\n",
       "  </tbody>\n",
       "</table>\n",
       "</div>"
      ],
      "text/plain": [
       "       ï»¿Sexo Comunidades y Ciudades AutÃ³nomas   Edad Periodo Tasa paro\n",
       "0  Ambos sexos                    Total Nacional  Total  2024T4     10,61\n",
       "1  Ambos sexos                    Total Nacional  Total  2024T3     11,21\n",
       "2  Ambos sexos                    Total Nacional  Total  2024T2     11,27\n",
       "3  Ambos sexos                    Total Nacional  Total  2024T1     12,29\n",
       "4  Ambos sexos                    Total Nacional  Total  2023T4      11,8"
      ]
     },
     "execution_count": 151,
     "metadata": {},
     "output_type": "execute_result"
    }
   ],
   "source": [
    "df_tasa_paro.head()"
   ]
  },
  {
   "cell_type": "code",
   "execution_count": 153,
   "id": "22396b3e",
   "metadata": {},
   "outputs": [
    {
     "data": {
      "text/html": [
       "<div>\n",
       "<style scoped>\n",
       "    .dataframe tbody tr th:only-of-type {\n",
       "        vertical-align: middle;\n",
       "    }\n",
       "\n",
       "    .dataframe tbody tr th {\n",
       "        vertical-align: top;\n",
       "    }\n",
       "\n",
       "    .dataframe thead th {\n",
       "        text-align: right;\n",
       "    }\n",
       "</style>\n",
       "<table border=\"1\" class=\"dataframe\">\n",
       "  <thead>\n",
       "    <tr style=\"text-align: right;\">\n",
       "      <th></th>\n",
       "      <th>sexo</th>\n",
       "      <th>CCAA</th>\n",
       "      <th>edad</th>\n",
       "      <th>periodo</th>\n",
       "      <th>tasa_paro</th>\n",
       "    </tr>\n",
       "  </thead>\n",
       "  <tbody>\n",
       "    <tr>\n",
       "      <th>0</th>\n",
       "      <td>Ambos sexos</td>\n",
       "      <td>Total Nacional</td>\n",
       "      <td>Total</td>\n",
       "      <td>2024T4</td>\n",
       "      <td>10,61</td>\n",
       "    </tr>\n",
       "    <tr>\n",
       "      <th>1</th>\n",
       "      <td>Ambos sexos</td>\n",
       "      <td>Total Nacional</td>\n",
       "      <td>Total</td>\n",
       "      <td>2024T3</td>\n",
       "      <td>11,21</td>\n",
       "    </tr>\n",
       "    <tr>\n",
       "      <th>2</th>\n",
       "      <td>Ambos sexos</td>\n",
       "      <td>Total Nacional</td>\n",
       "      <td>Total</td>\n",
       "      <td>2024T2</td>\n",
       "      <td>11,27</td>\n",
       "    </tr>\n",
       "    <tr>\n",
       "      <th>3</th>\n",
       "      <td>Ambos sexos</td>\n",
       "      <td>Total Nacional</td>\n",
       "      <td>Total</td>\n",
       "      <td>2024T1</td>\n",
       "      <td>12,29</td>\n",
       "    </tr>\n",
       "    <tr>\n",
       "      <th>4</th>\n",
       "      <td>Ambos sexos</td>\n",
       "      <td>Total Nacional</td>\n",
       "      <td>Total</td>\n",
       "      <td>2023T4</td>\n",
       "      <td>11,8</td>\n",
       "    </tr>\n",
       "    <tr>\n",
       "      <th>...</th>\n",
       "      <td>...</td>\n",
       "      <td>...</td>\n",
       "      <td>...</td>\n",
       "      <td>...</td>\n",
       "      <td>...</td>\n",
       "    </tr>\n",
       "    <tr>\n",
       "      <th>38635</th>\n",
       "      <td>Mujeres</td>\n",
       "      <td>19 Melilla</td>\n",
       "      <td>55 y mÃ¡s aÃ±os</td>\n",
       "      <td>2003T1</td>\n",
       "      <td>0</td>\n",
       "    </tr>\n",
       "    <tr>\n",
       "      <th>38636</th>\n",
       "      <td>Mujeres</td>\n",
       "      <td>19 Melilla</td>\n",
       "      <td>55 y mÃ¡s aÃ±os</td>\n",
       "      <td>2002T4</td>\n",
       "      <td>0</td>\n",
       "    </tr>\n",
       "    <tr>\n",
       "      <th>38637</th>\n",
       "      <td>Mujeres</td>\n",
       "      <td>19 Melilla</td>\n",
       "      <td>55 y mÃ¡s aÃ±os</td>\n",
       "      <td>2002T3</td>\n",
       "      <td>0</td>\n",
       "    </tr>\n",
       "    <tr>\n",
       "      <th>38638</th>\n",
       "      <td>Mujeres</td>\n",
       "      <td>19 Melilla</td>\n",
       "      <td>55 y mÃ¡s aÃ±os</td>\n",
       "      <td>2002T2</td>\n",
       "      <td>0</td>\n",
       "    </tr>\n",
       "    <tr>\n",
       "      <th>38639</th>\n",
       "      <td>Mujeres</td>\n",
       "      <td>19 Melilla</td>\n",
       "      <td>55 y mÃ¡s aÃ±os</td>\n",
       "      <td>2002T1</td>\n",
       "      <td>11,32</td>\n",
       "    </tr>\n",
       "  </tbody>\n",
       "</table>\n",
       "<p>38640 rows × 5 columns</p>\n",
       "</div>"
      ],
      "text/plain": [
       "              sexo            CCAA             edad periodo tasa_paro\n",
       "0      Ambos sexos  Total Nacional            Total  2024T4     10,61\n",
       "1      Ambos sexos  Total Nacional            Total  2024T3     11,21\n",
       "2      Ambos sexos  Total Nacional            Total  2024T2     11,27\n",
       "3      Ambos sexos  Total Nacional            Total  2024T1     12,29\n",
       "4      Ambos sexos  Total Nacional            Total  2023T4      11,8\n",
       "...            ...             ...              ...     ...       ...\n",
       "38635      Mujeres      19 Melilla  55 y mÃ¡s aÃ±os  2003T1         0\n",
       "38636      Mujeres      19 Melilla  55 y mÃ¡s aÃ±os  2002T4         0\n",
       "38637      Mujeres      19 Melilla  55 y mÃ¡s aÃ±os  2002T3         0\n",
       "38638      Mujeres      19 Melilla  55 y mÃ¡s aÃ±os  2002T2         0\n",
       "38639      Mujeres      19 Melilla  55 y mÃ¡s aÃ±os  2002T1     11,32\n",
       "\n",
       "[38640 rows x 5 columns]"
      ]
     },
     "execution_count": 153,
     "metadata": {},
     "output_type": "execute_result"
    }
   ],
   "source": [
    "df_tasa_paro.rename(columns = {'ï»¿Sexo':'sexo', 'Comunidades y Ciudades AutÃ³nomas':'CCAA',\n",
    "                            'Edad':'edad',\n",
    "                            'Periodo':'periodo', 'Tasa paro':'tasa_paro'})"
   ]
  }
 ],
 "metadata": {
  "kernelspec": {
   "display_name": "base",
   "language": "python",
   "name": "python3"
  },
  "language_info": {
   "codemirror_mode": {
    "name": "ipython",
    "version": 3
   },
   "file_extension": ".py",
   "mimetype": "text/x-python",
   "name": "python",
   "nbconvert_exporter": "python",
   "pygments_lexer": "ipython3",
   "version": "3.11.11"
  }
 },
 "nbformat": 4,
 "nbformat_minor": 5
}
